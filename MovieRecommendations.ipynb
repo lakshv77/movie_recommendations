{
 "cells": [
  {
   "cell_type": "code",
   "execution_count": 1,
   "metadata": {
    "collapsed": true
   },
   "outputs": [],
   "source": [
    "import numpy as np\n",
    "import pandas as pd"
   ]
  },
  {
   "cell_type": "code",
   "execution_count": 2,
   "metadata": {
    "collapsed": true
   },
   "outputs": [],
   "source": [
    "movies = pd.read_csv('./data/movies.csv')"
   ]
  },
  {
   "cell_type": "code",
   "execution_count": 3,
   "metadata": {},
   "outputs": [
    {
     "data": {
      "text/html": [
       "<div>\n",
       "<style>\n",
       "    .dataframe thead tr:only-child th {\n",
       "        text-align: right;\n",
       "    }\n",
       "\n",
       "    .dataframe thead th {\n",
       "        text-align: left;\n",
       "    }\n",
       "\n",
       "    .dataframe tbody tr th {\n",
       "        vertical-align: top;\n",
       "    }\n",
       "</style>\n",
       "<table border=\"1\" class=\"dataframe\">\n",
       "  <thead>\n",
       "    <tr style=\"text-align: right;\">\n",
       "      <th></th>\n",
       "      <th>movieId</th>\n",
       "      <th>title</th>\n",
       "      <th>genres</th>\n",
       "    </tr>\n",
       "  </thead>\n",
       "  <tbody>\n",
       "    <tr>\n",
       "      <th>0</th>\n",
       "      <td>1</td>\n",
       "      <td>Toy Story (1995)</td>\n",
       "      <td>Adventure|Animation|Children|Comedy|Fantasy</td>\n",
       "    </tr>\n",
       "    <tr>\n",
       "      <th>1</th>\n",
       "      <td>2</td>\n",
       "      <td>Jumanji (1995)</td>\n",
       "      <td>Adventure|Children|Fantasy</td>\n",
       "    </tr>\n",
       "    <tr>\n",
       "      <th>2</th>\n",
       "      <td>3</td>\n",
       "      <td>Grumpier Old Men (1995)</td>\n",
       "      <td>Comedy|Romance</td>\n",
       "    </tr>\n",
       "    <tr>\n",
       "      <th>3</th>\n",
       "      <td>4</td>\n",
       "      <td>Waiting to Exhale (1995)</td>\n",
       "      <td>Comedy|Drama|Romance</td>\n",
       "    </tr>\n",
       "    <tr>\n",
       "      <th>4</th>\n",
       "      <td>5</td>\n",
       "      <td>Father of the Bride Part II (1995)</td>\n",
       "      <td>Comedy</td>\n",
       "    </tr>\n",
       "  </tbody>\n",
       "</table>\n",
       "</div>"
      ],
      "text/plain": [
       "   movieId                               title  \\\n",
       "0        1                    Toy Story (1995)   \n",
       "1        2                      Jumanji (1995)   \n",
       "2        3             Grumpier Old Men (1995)   \n",
       "3        4            Waiting to Exhale (1995)   \n",
       "4        5  Father of the Bride Part II (1995)   \n",
       "\n",
       "                                        genres  \n",
       "0  Adventure|Animation|Children|Comedy|Fantasy  \n",
       "1                   Adventure|Children|Fantasy  \n",
       "2                               Comedy|Romance  \n",
       "3                         Comedy|Drama|Romance  \n",
       "4                                       Comedy  "
      ]
     },
     "execution_count": 3,
     "metadata": {},
     "output_type": "execute_result"
    }
   ],
   "source": [
    "movies.head()"
   ]
  },
  {
   "cell_type": "code",
   "execution_count": 4,
   "metadata": {},
   "outputs": [
    {
     "data": {
      "text/plain": [
       "(9125, 3)"
      ]
     },
     "execution_count": 4,
     "metadata": {},
     "output_type": "execute_result"
    }
   ],
   "source": [
    "movies.shape"
   ]
  },
  {
   "cell_type": "code",
   "execution_count": 5,
   "metadata": {},
   "outputs": [
    {
     "name": "stdout",
     "output_type": "stream",
     "text": [
      "<class 'pandas.core.frame.DataFrame'>\n",
      "RangeIndex: 9125 entries, 0 to 9124\n",
      "Data columns (total 3 columns):\n",
      "movieId    9125 non-null int64\n",
      "title      9125 non-null object\n",
      "genres     9125 non-null object\n",
      "dtypes: int64(1), object(2)\n",
      "memory usage: 213.9+ KB\n"
     ]
    }
   ],
   "source": [
    "movies.info()"
   ]
  },
  {
   "cell_type": "code",
   "execution_count": 6,
   "metadata": {},
   "outputs": [
    {
     "data": {
      "text/plain": [
       "array(['Adventure|Animation|Children|Comedy|Fantasy',\n",
       "       'Adventure|Children|Fantasy', 'Comedy|Romance',\n",
       "       'Comedy|Drama|Romance', 'Comedy', 'Action|Crime|Thriller',\n",
       "       'Adventure|Children', 'Action', 'Action|Adventure|Thriller',\n",
       "       'Comedy|Horror', 'Adventure|Animation|Children', 'Drama',\n",
       "       'Action|Adventure|Romance', 'Crime|Drama', 'Drama|Romance',\n",
       "       'Action|Comedy|Crime|Drama|Thriller', 'Comedy|Crime|Thriller',\n",
       "       'Crime|Drama|Horror|Mystery|Thriller', 'Drama|Sci-Fi',\n",
       "       'Children|Drama', 'Adventure|Drama|Fantasy|Mystery|Sci-Fi',\n",
       "       'Mystery|Sci-Fi|Thriller', 'Documentary|IMAX', 'Children|Comedy',\n",
       "       'Drama|War', 'Action|Crime|Drama', 'Action|Adventure|Fantasy',\n",
       "       'Comedy|Drama|Thriller', 'Mystery|Thriller',\n",
       "       'Animation|Children|Drama|Musical|Romance',\n",
       "       'Crime|Mystery|Thriller', 'Adventure|Drama', 'Drama|Mystery',\n",
       "       'Drama|Thriller', 'Comedy|Crime', 'Action|Sci-Fi|Thriller',\n",
       "       'Action|Comedy|Horror|Thriller', 'Comedy|Drama', 'Documentary',\n",
       "       'Action|Crime|Drama|Thriller', 'Crime|Drama|Romance',\n",
       "       'Action|Adventure|Drama', 'Action|Thriller',\n",
       "       'Drama|Horror|Thriller', 'Comedy|Horror|Romance',\n",
       "       'Adventure|Comedy|Crime|Romance',\n",
       "       'Adventure|Children|Comedy|Musical', 'Action|Drama|War',\n",
       "       'Crime|Drama|Thriller', 'Action|Adventure|Comedy|Crime',\n",
       "       'Drama|Mystery|Romance', 'Thriller', 'Adventure|Drama|IMAX',\n",
       "       'Action|Drama|Romance|War', 'Drama|Horror', 'Adventure|Drama|War',\n",
       "       'Comedy|War', 'Crime|Drama|Mystery',\n",
       "       'Action|Adventure|Mystery|Sci-Fi', 'Drama|Thriller|War',\n",
       "       'Action|Romance|Western', 'Crime|Film-Noir|Mystery|Thriller',\n",
       "       'Comedy|Crime|Drama', 'Action|Drama|Romance',\n",
       "       'Adventure|Children|Drama', 'Action|Adventure|Crime|Thriller',\n",
       "       'Action|Crime|Sci-Fi', 'Horror', 'Action|Children',\n",
       "       'Comedy|Horror|Thriller', 'Fantasy|Horror|Mystery',\n",
       "       'Comedy|Fantasy', 'Horror|Sci-Fi',\n",
       "       'Action|Crime|Drama|Mystery|Sci-Fi|Thriller',\n",
       "       'Drama|Musical|Romance', 'Drama|Fantasy',\n",
       "       'Action|Adventure|Sci-Fi', 'Adventure|Comedy',\n",
       "       'Action|Comedy|Romance', 'Animation|Children|Comedy|Romance',\n",
       "       'Drama|Musical', 'Children|Comedy|Fantasy', 'Animation|Children',\n",
       "       'Comedy|Sci-Fi', 'Adventure|Children|Comedy|Fantasy|Romance',\n",
       "       'Drama|Fantasy|Romance', 'Drama|Romance|War|Western',\n",
       "       'Drama|Horror|Sci-Fi', 'Action|Drama|Sci-Fi|Thriller',\n",
       "       'Comedy|Crime|Drama|Thriller', 'Action|Thriller|Western',\n",
       "       'Children|Drama|Fantasy|Mystery', 'Action|Drama|Thriller',\n",
       "       'Comedy|Drama|Fantasy', 'Film-Noir|Thriller',\n",
       "       'Action|Comedy|Sci-Fi', 'Horror|Thriller',\n",
       "       'Adventure|Drama|Sci-Fi', 'Action|Crime|Horror', 'Children',\n",
       "       'Drama|Film-Noir|Romance', 'Drama|Mystery|Thriller',\n",
       "       'Action|Crime|Fantasy|Thriller', 'Comedy|Drama|Romance|War',\n",
       "       'Action|Comedy', 'Adventure|Children|Romance',\n",
       "       'Adventure|Animation|Children|Drama|Musical|IMAX',\n",
       "       'Drama|Horror|Mystery|Thriller', 'Action|Comedy|Crime|Fantasy',\n",
       "       'Adventure|Comedy|Western', 'Action|Romance|Thriller',\n",
       "       'Action|Adventure|Comedy|Romance|Thriller',\n",
       "       'Drama|Horror|Romance|Thriller', 'Western', 'Drama|Romance|War',\n",
       "       'Adventure|Animation', 'Action|Fantasy', 'Comedy|Thriller',\n",
       "       'Action|Comedy|Crime|Thriller', 'Horror|Sci-Fi|Thriller',\n",
       "       'Drama|Mystery|Romance|Thriller', 'Action|Comedy|Drama',\n",
       "       'Adventure|Documentary', 'Drama|Western',\n",
       "       'Action|Adventure|Crime|Drama|Romance|Thriller',\n",
       "       'Action|Comedy|War', 'Action|Adventure|Sci-Fi|Thriller',\n",
       "       'Action|Adventure|Comedy|Fantasy', 'Comedy|Western',\n",
       "       'Comedy|Mystery', 'Comedy|Drama|Romance|Thriller',\n",
       "       'Action|Children|Romance', 'Action|Drama|Sci-Fi', 'Action|Drama',\n",
       "       'Comedy|Mystery|Romance', 'Action|Drama|Mystery',\n",
       "       'Action|Crime|Drama|Sci-Fi|Thriller', 'Crime|Thriller',\n",
       "       'Comedy|Crime|Horror', 'Action|Adventure|Fantasy|Mystery',\n",
       "       'Comedy|Romance|Thriller', 'Action|Crime',\n",
       "       'Action|Adventure|Children|Comedy|Fantasy|Sci-Fi',\n",
       "       'Action|Mystery|Thriller', 'Animation|Children|Fantasy|Musical',\n",
       "       'Action|Adventure|Comedy|Romance', 'Action|Drama|Western',\n",
       "       'Action|Adventure|Animation|Children|Fantasy',\n",
       "       'Comedy|Drama|Fantasy|Romance|Thriller',\n",
       "       'Adventure|Animation|Children|Comedy|Musical', 'Action|Sci-Fi',\n",
       "       'Adventure|Drama|Western', 'Crime|Horror|Thriller',\n",
       "       'Animation|Children|Drama|Fantasy|Musical',\n",
       "       'Animation|Children|Fantasy|Musical|Romance|IMAX',\n",
       "       'Adventure|Western', 'Action|Comedy|Crime', 'Fantasy|Horror',\n",
       "       'Action|Adventure|Animation|Horror|Sci-Fi', 'Action|Horror|Sci-Fi',\n",
       "       'Crime|Drama|Mystery|Thriller',\n",
       "       'Adventure|Animation|Children|Fantasy|Musical|Romance', 'Romance',\n",
       "       'Action|Crime|Drama|War', 'Action|Adventure|Mystery|Thriller',\n",
       "       'Adventure|Animation|Children|Fantasy|Musical', 'Comedy|Drama|War',\n",
       "       'Adventure|Animation|Children|Comedy|Fantasy|Sci-Fi',\n",
       "       'Adventure|Comedy|Sci-Fi', 'Drama|Mystery|Romance|Sci-Fi|Thriller',\n",
       "       'Crime', 'Action|Adventure|Comedy|War', 'Action|Adventure',\n",
       "       'Drama|Mystery|Western', 'Comedy|Fantasy|Sci-Fi',\n",
       "       'Adventure|Animation|Comedy', 'Drama|Fantasy|Horror|Thriller',\n",
       "       'Action|Adventure|Romance|Thriller', 'Animation|Sci-Fi',\n",
       "       'Animation|Children|Comedy', 'Film-Noir', 'Horror|Mystery',\n",
       "       'Comedy|Fantasy|Romance|Sci-Fi', 'Action|Adventure|Drama|Thriller',\n",
       "       'Comedy|Fantasy|Musical', 'Crime|Drama|Romance|Thriller',\n",
       "       'Crime|Drama|Musical|Thriller', 'Sci-Fi|Thriller',\n",
       "       'Children|Drama|Fantasy', 'Adventure|Animation|Children|Musical',\n",
       "       'Adventure|Drama|Romance|War', 'Comedy|Musical|Romance',\n",
       "       'Musical|Romance', 'Comedy|Musical',\n",
       "       'Action|Adventure|Mystery|Romance|Thriller',\n",
       "       'Comedy|Crime|Mystery|Romance|Thriller', 'Film-Noir|Mystery',\n",
       "       'Comedy|Drama|Musical|Romance', 'Musical',\n",
       "       'Adventure|Children|Fantasy|Musical',\n",
       "       'Drama|Film-Noir|Mystery|Thriller', 'Film-Noir|Romance|Thriller',\n",
       "       'Mystery|Romance|Thriller', 'Crime|Mystery|Romance|Thriller',\n",
       "       'Adventure', 'Crime|Film-Noir|Mystery', 'Drama|Romance|Western',\n",
       "       'Children|Drama|Fantasy|Romance', 'Romance|Western',\n",
       "       'Adventure|Comedy|Romance|War',\n",
       "       'Adventure|Comedy|Crime|Drama|Romance', 'Romance|War',\n",
       "       'Crime|Film-Noir', 'Children|Comedy|Western',\n",
       "       'Children|Comedy|Fantasy|Romance', 'Children|Comedy|Romance',\n",
       "       'Children|Comedy|Drama', 'Children|Comedy|Mystery',\n",
       "       'Animation|Children|Fantasy|Musical|Romance',\n",
       "       'Animation|Children|Musical', 'Children|Comedy|Fantasy|Musical',\n",
       "       'Animation|Children|Drama|Musical', 'Adventure|Children|Musical',\n",
       "       'Animation|Children|Drama', 'Action|Horror|Sci-Fi|Thriller',\n",
       "       'Documentary|Drama',\n",
       "       'Animation|Children|Comedy|Fantasy|Musical|Romance',\n",
       "       'Crime|Film-Noir|Thriller', 'Drama|Romance|Thriller',\n",
       "       'Children|Drama|Sci-Fi', 'Action|Romance',\n",
       "       'Adventure|Comedy|Fantasy', 'Animation|Children|Comedy|Crime',\n",
       "       'Animation|Comedy|Drama|Fantasy', 'Action|Adventure|Horror',\n",
       "       'Crime|Drama|Film-Noir', 'Documentary|Musical',\n",
       "       'Action|Adventure|Comedy|Fantasy|Romance', 'Fantasy|Sci-Fi',\n",
       "       'Action|Adventure|Horror|Sci-Fi', 'Action|Adventure|Western',\n",
       "       'Crime|Drama|Sci-Fi|Thriller', 'Film-Noir|Mystery|Thriller',\n",
       "       'Action|Adventure|Comedy|Fantasy|Horror',\n",
       "       'Adventure|Drama|Romance', 'Crime|Horror', 'Action|Comedy|Musical',\n",
       "       'Adventure|Animation|Children|Comedy|Sci-Fi',\n",
       "       'Drama|Mystery|Sci-Fi', 'Comedy|Fantasy|Horror',\n",
       "       'Crime|Drama|Film-Noir|Thriller', 'Action|Crime|Romance|Thriller',\n",
       "       'Drama|Sci-Fi|Thriller', 'Action|Adventure|Drama|Western',\n",
       "       'Comedy|Horror|Sci-Fi', 'Comedy|Musical|War',\n",
       "       'Action|Comedy|Fantasy|Horror', 'Action|Adventure|Drama|War',\n",
       "       'Action|Drama|Mystery|Romance|Thriller', 'Comedy|Fantasy|Romance',\n",
       "       'Crime|Thriller|War', 'Comedy|Mystery|Thriller',\n",
       "       'Comedy|Drama|Film-Noir', 'Action|Adventure|Animation|Sci-Fi',\n",
       "       'Action|Western', 'Fantasy|Horror|Romance|Thriller',\n",
       "       'Drama|Fantasy|Horror', 'Horror|Mystery|Thriller',\n",
       "       'Adventure|Children|Comedy', 'Adventure|Sci-Fi',\n",
       "       'Action|Mystery|Sci-Fi', 'Action|Comedy|Western', 'Action|Horror',\n",
       "       'Action|Comedy|Crime|Drama|Sci-Fi',\n",
       "       'Adventure|Animation|Comedy|Crime',\n",
       "       'Comedy|Horror|Mystery|Thriller', 'Action|Romance|War|Western',\n",
       "       'Comedy|Drama|Fantasy|Romance', 'Action|Adventure|Comedy|Thriller',\n",
       "       'War', 'Crime|Drama|Fantasy|Film-Noir|Mystery|Romance',\n",
       "       'Action|Comedy|Crime|Drama', 'Action|Romance|Sci-Fi|Thriller',\n",
       "       'Comedy|Drama|Mystery|Romance', 'Action|Adventure|Children',\n",
       "       'Comedy|Crime|Romance', 'Action|Adventure|Comedy',\n",
       "       'Action|Crime|Romance', 'Action|Adventure|Children|Fantasy',\n",
       "       'Action|Adventure|Comedy|Sci-Fi',\n",
       "       'Action|Adventure|Fantasy|Thriller', 'Children|Fantasy',\n",
       "       'Adventure|Romance', 'Action|Thriller|War',\n",
       "       'Children|Comedy|Romance|Sci-Fi', 'Comedy|Documentary',\n",
       "       'Romance|Thriller', 'Comedy|Drama|Sci-Fi',\n",
       "       'Adventure|Animation|Children|Drama|Musical',\n",
       "       'Action|Adventure|Drama|Sci-Fi', 'Action|Children|Comedy',\n",
       "       'Adventure|Film-Noir|Sci-Fi|Thriller',\n",
       "       'Adventure|Children|Fantasy|Sci-Fi',\n",
       "       'Crime|Drama|Fantasy|Thriller',\n",
       "       'Crime|Drama|Mystery|Romance|Thriller',\n",
       "       'Comedy|Crime|Drama|Mystery|Thriller',\n",
       "       'Adventure|Children|Comedy|Fantasy', 'Crime|Drama|Romance|War',\n",
       "       'Adventure|Comedy|Drama', 'Adventure|Comedy|Romance',\n",
       "       'Adventure|Animation|Children|Comedy|Drama|Musical|Romance',\n",
       "       'Action|Crime|Mystery|Sci-Fi|Thriller',\n",
       "       'Comedy|Crime|Drama|Romance|Thriller',\n",
       "       'Animation|Children|Fantasy|War', 'Comedy|Drama|Musical',\n",
       "       'Adventure|Fantasy|Musical',\n",
       "       'Action|Adventure|Children|Comedy|Fantasy',\n",
       "       'Drama|Mystery|Sci-Fi|Thriller', 'Adventure|Comedy|Sci-Fi|Western',\n",
       "       'Children|Fantasy|Musical', 'Adventure|Animation|Children|Fantasy',\n",
       "       'Children|Sci-Fi', 'Children|Comedy|Sci-Fi',\n",
       "       'Action|Adventure|Children|Comedy',\n",
       "       'Adventure|Children|Drama|Romance', 'Adventure|Children|Sci-Fi',\n",
       "       'Action|Animation|Children|Crime',\n",
       "       'Children|Comedy|Fantasy|Horror',\n",
       "       'Adventure|Children|Comedy|Fantasy|Sci-Fi',\n",
       "       'Action|Crime|Drama|Mystery|Thriller', 'Drama|Fantasy|Mystery',\n",
       "       'Animation|Children|Comedy|Musical',\n",
       "       'Animation|Children|Comedy|Musical|Romance',\n",
       "       'Children|Comedy|Musical', 'Children|Musical',\n",
       "       'Adventure|Comedy|Musical',\n",
       "       'Adventure|Animation|Children|Crime|Drama',\n",
       "       'Children|Drama|Fantasy|Mystery|Thriller',\n",
       "       'Adventure|Children|Fantasy|Western',\n",
       "       'Animation|Children|Comedy|Drama|Fantasy',\n",
       "       'Action|Crime|Mystery|Thriller',\n",
       "       'Adventure|Animation|Children|Drama|Fantasy',\n",
       "       'Adventure|Animation|Children|Drama', 'Adventure|Fantasy',\n",
       "       'Adventure|Animation|Children|Comedy',\n",
       "       'Adventure|Animation|Children|Musical|Western',\n",
       "       'Adventure|Fantasy|Romance', 'Adventure|Drama|Fantasy',\n",
       "       'Action|Comedy|Drama|Horror', 'Action|Horror|Thriller',\n",
       "       'Adventure|Fantasy|Sci-Fi', 'Drama|Film-Noir|Thriller',\n",
       "       'Adventure|Drama|Mystery|Thriller',\n",
       "       'Animation|Comedy|Fantasy|Sci-Fi',\n",
       "       'Horror|Mystery|Sci-Fi|Thriller', 'Drama|Fantasy|Thriller',\n",
       "       'Adventure|Drama|Fantasy|Romance', 'Sci-Fi',\n",
       "       'Drama|Fantasy|Mystery|Romance', 'Action|Sci-Fi|War',\n",
       "       'Fantasy|Horror|Thriller', 'Horror|Western',\n",
       "       'Action|Adventure|Fantasy|Horror',\n",
       "       'Adventure|Fantasy|Romance|Sci-Fi|Thriller',\n",
       "       'Comedy|Crime|Mystery', 'Action|Drama|Romance|Sci-Fi',\n",
       "       'Animation|Musical', 'Action|Adventure|Thriller|War',\n",
       "       'Comedy|Crime|Mystery|Thriller',\n",
       "       'Action|Adventure|Children|Fantasy|Mystery|Thriller',\n",
       "       'Action|Adventure|Children|Drama',\n",
       "       'Action|Adventure|Drama|Fantasy|Thriller', 'Horror|Mystery|Sci-Fi',\n",
       "       'Drama|Horror|Sci-Fi|Thriller', 'Action|Comedy|Romance|Thriller',\n",
       "       'Action|War', 'Adventure|Comedy|Thriller',\n",
       "       'Action|Sci-Fi|Thriller|Western', 'Drama|Romance|Sci-Fi|Thriller',\n",
       "       'Drama|Film-Noir',\n",
       "       'Action|Adventure|Comedy|Fantasy|Horror|Thriller',\n",
       "       'Action|Adventure|Crime|Sci-Fi|Thriller',\n",
       "       'Comedy|Film-Noir|Thriller', 'Horror|Romance',\n",
       "       'Comedy|Horror|Musical|Sci-Fi', 'Comedy|Romance|Sci-Fi',\n",
       "       'Animation|Comedy|Musical', 'Action|Comedy|Sci-Fi|Western',\n",
       "       'Action|Comedy|Fantasy', 'Adventure|Drama|Thriller',\n",
       "       'Action|Adventure|Comedy|Fantasy|Mystery', 'Comedy|Horror|Musical',\n",
       "       'Adventure|Animation|Children|Drama|Sci-Fi',\n",
       "       'Drama|Horror|Mystery', 'Action|Mystery',\n",
       "       'Comedy|Horror|Romance|Thriller', 'Action|Drama|Romance|Thriller',\n",
       "       'Animation|Horror|Mystery|Thriller',\n",
       "       'Adventure|Children|Comedy|Drama', 'Adventure|Sci-Fi|Thriller',\n",
       "       'Adventure|Animation|Comedy|Fantasy|Musical',\n",
       "       'Animation|Children|Fantasy', 'Action|Adventure|Comedy|Drama|War',\n",
       "       'Crime|Drama|Western', 'Drama|Film-Noir|Mystery|Romance',\n",
       "       'Musical|Romance|War', 'Mystery',\n",
       "       'Adventure|Comedy|Fantasy|Sci-Fi', 'Drama|Fantasy|Musical',\n",
       "       'Action|Crime|Sci-Fi|Thriller',\n",
       "       'Adventure|Animation|Children|Comedy|Crime|Fantasy|Mystery',\n",
       "       'Action|Adventure|Animation|Drama|Fantasy',\n",
       "       'Adventure|Animation|Children|Fantasy|Sci-Fi',\n",
       "       'Fantasy|Horror|Mystery|Romance', 'Crime|Romance|Thriller',\n",
       "       'Action|Fantasy|Horror|Mystery|Thriller', 'Drama|Romance|Sci-Fi',\n",
       "       'Animation|Children|Musical|IMAX', 'Action|Comedy|Horror',\n",
       "       'Action|Crime|Thriller|Western', 'Fantasy|Horror|Mystery|Thriller',\n",
       "       'Adventure|Crime|Drama|Romance', 'Adventure|Crime|Drama',\n",
       "       'Animation|Comedy', 'Action|Children|Comedy|Fantasy|Sci-Fi',\n",
       "       'Action|Children|Fantasy',\n",
       "       'Action|Adventure|Drama|Thriller|Western',\n",
       "       'Crime|Horror|Mystery|Thriller', 'Crime|Drama|Musical',\n",
       "       'Adventure|Children|Fantasy|Musical|Romance',\n",
       "       'Action|Adventure|Comedy|Western', 'Action|Drama|Thriller|Western',\n",
       "       'Adventure|Animation|Fantasy|Sci-Fi',\n",
       "       'Comedy|Horror|Sci-Fi|Thriller', 'Adventure|Drama|Romance|Sci-Fi',\n",
       "       'Film-Noir|Horror|Mystery|Thriller',\n",
       "       'Action|Adventure|Animation|Children|Sci-Fi',\n",
       "       'Action|Fantasy|Horror|Sci-Fi|Thriller',\n",
       "       'Action|Comedy|Crime|Romance', 'Adventure|Horror|Sci-Fi',\n",
       "       'Horror|Musical|Thriller', 'Adventure|Animation|Children|Sci-Fi',\n",
       "       'Adventure|Comedy|Crime', 'Action|Drama|War|Western',\n",
       "       'Action|Crime|Mystery|Romance|Thriller', 'Romance|Sci-Fi',\n",
       "       'Action|Crime|Drama|Thriller|Western',\n",
       "       'Action|Adventure|Fantasy|Sci-Fi', 'Adventure|Comedy|Horror',\n",
       "       'Animation|Comedy|Fantasy', 'Action|Adventure|War',\n",
       "       'Action|Crime|Drama|Horror|Thriller', 'Crime|Mystery',\n",
       "       'Adventure|Comedy|Mystery|Romance',\n",
       "       'Adventure|Animation|Children|Comedy|Fantasy|Romance',\n",
       "       'Comedy|Drama|Mystery|Thriller', 'Comedy|Drama|Romance|Western',\n",
       "       'Adventure|Documentary|IMAX', 'Animation|Drama|Sci-Fi|IMAX',\n",
       "       'Comedy|Musical|Sci-Fi', 'Drama|Musical|Mystery', 'Crime|Musical',\n",
       "       'Comedy|Musical|Western',\n",
       "       'Action|Animation|Comedy|Crime|Drama|Romance|Thriller',\n",
       "       'Action|Adventure|Drama|Romance',\n",
       "       'Comedy|Fantasy|Horror|Musical|Thriller',\n",
       "       'Action|Adventure|Drama|Romance|Thriller',\n",
       "       'Action|Comedy|Romance|War', 'Action|Adventure|Comedy|Drama',\n",
       "       'Adventure|Thriller', 'Crime|Drama|Film-Noir|Mystery|Thriller',\n",
       "       'Animation|Drama|Fantasy', 'Drama|Fantasy|Mystery|Sci-Fi',\n",
       "       'Drama|Fantasy|Horror|Thriller|War', 'Fantasy|Mystery|Thriller',\n",
       "       'Action|Adventure|Comedy|Drama|Romance|Thriller',\n",
       "       'Mystery|Romance|Sci-Fi|Thriller',\n",
       "       'Adventure|Crime|Drama|Thriller', 'Animation',\n",
       "       'Comedy|Drama|Mystery',\n",
       "       'Adventure|Comedy|Crime|Drama|Fantasy|Mystery|Sci-Fi|Thriller',\n",
       "       'Animation|Fantasy', 'Musical|Sci-Fi',\n",
       "       'Drama|Fantasy|Horror|Mystery|Thriller',\n",
       "       'Drama|Fantasy|Mystery|Romance|Thriller',\n",
       "       'Animation|Fantasy|Horror|Sci-Fi', 'Documentary|War',\n",
       "       'Musical|Western', 'Action|Adventure|Sci-Fi|IMAX',\n",
       "       'Crime|Horror|Mystery', 'Adventure|Animation|Children|Western',\n",
       "       'Adventure|Children|Comedy|Fantasy|Mystery',\n",
       "       'Adventure|Drama|Horror|Mystery|Thriller',\n",
       "       'Action|Animation|Children|Comedy', 'Action|Comedy|Horror|Sci-Fi',\n",
       "       'Comedy|Drama|Fantasy|Sci-Fi', 'Action|Adventure|Fantasy|Romance',\n",
       "       'Comedy|Crime|Romance|Thriller', 'Adventure|War',\n",
       "       'Comedy|Crime|Musical|Mystery', 'Adventure|Animation|Fantasy',\n",
       "       'Animation|Comedy|War', 'Drama|Fantasy|War', 'Animation|Drama|War',\n",
       "       'Fantasy|Musical|Romance', 'Documentary|Horror',\n",
       "       'Action|Horror|Mystery|Sci-Fi', 'Action|Comedy|Documentary',\n",
       "       'Documentary|Drama|Musical',\n",
       "       'Adventure|Animation|Children|Sci-Fi|IMAX', 'Comedy|Drama|Horror',\n",
       "       'Animation|Children|Drama|Fantasy', 'Comedy|Crime|Drama|Musical',\n",
       "       'Action|Adventure|Crime|Drama|Thriller', 'Drama|Film-Noir|Mystery',\n",
       "       'Comedy|Documentary|Musical', 'Action|Animation|Sci-Fi|Thriller',\n",
       "       'Adventure|Children|Comedy|Mystery', 'Mystery|Sci-Fi',\n",
       "       'Adventure|Children|Comedy|Fantasy|Musical',\n",
       "       'Action|Adventure|Animation|Children|Fantasy|Sci-Fi',\n",
       "       'Action|Adventure|Sci-Fi|Thriller|IMAX',\n",
       "       'Action|Drama|Horror|Sci-Fi|Thriller', 'Drama|War|Western',\n",
       "       'Comedy|Crime|Mystery|Romance', 'Comedy|War|Western',\n",
       "       'Action|Adventure|Comedy|Crime|Thriller', 'Action|Fantasy|Sci-Fi',\n",
       "       'Action|Comedy|Thriller', 'Adventure|Comedy|Crime|Thriller',\n",
       "       'Comedy|Fantasy|Mystery', 'Animation|Drama|Romance',\n",
       "       'Adventure|Musical', 'Action|Fantasy|Horror',\n",
       "       'Fantasy|Horror|Sci-Fi|Thriller', 'Comedy|Musical|Romance|Western',\n",
       "       'Drama|Fantasy|Sci-Fi', 'Children|Comedy|Crime|Musical',\n",
       "       'Film-Noir|Horror|Thriller', 'Action|Adventure|Animation|Fantasy',\n",
       "       'Crime|Documentary', 'Comedy|Drama|Musical|Mystery',\n",
       "       'Adventure|Comedy|Drama|Fantasy|Mystery|Sci-Fi|Thriller',\n",
       "       'Adventure|Thriller|Western', 'Comedy|Crime|Drama|Mystery|Romance',\n",
       "       'Action|Crime|Fantasy|Sci-Fi|Thriller', 'Crime|Fantasy|Horror',\n",
       "       'Action|Adventure|Comedy|Crime|Drama',\n",
       "       'Comedy|Drama|Mystery|Sci-Fi|Thriller',\n",
       "       'Action|Drama|Horror|Thriller', 'Comedy|Fantasy|Horror|Thriller',\n",
       "       'Action|Drama|Romance|Western',\n",
       "       'Adventure|Animation|Drama|Fantasy|Sci-Fi',\n",
       "       'Comedy|Crime|Drama|Film-Noir|Musical',\n",
       "       'Action|Adventure|Drama|Fantasy', 'Comedy|Crime|Drama|Romance',\n",
       "       'Adventure|Drama|Romance|Thriller|War',\n",
       "       'Crime|Drama|Film-Noir|Romance|Thriller',\n",
       "       'Action|Comedy|Crime|Drama|Horror|Thriller',\n",
       "       'Action|Adventure|Children|Comedy|Mystery',\n",
       "       'Animation|Children|Comedy|Musical|Western', 'Action|Drama|Horror',\n",
       "       'Comedy|Crime|Drama|Mystery', 'Comedy|Fantasy|Musical|Romance',\n",
       "       'Musical|Romance|Western', 'Action|Drama|Thriller|War',\n",
       "       'Comedy|Crime|Drama|Musical|Mystery|Romance',\n",
       "       'Adventure|Comedy|War', 'Comedy|Crime|Western',\n",
       "       'Drama|Fantasy|Horror|Mystery', 'Drama|Thriller|Western',\n",
       "       'Crime|Horror|Sci-Fi', 'Animation|Fantasy|Thriller',\n",
       "       'Children|Comedy|Fantasy|Sci-Fi',\n",
       "       'Action|Adventure|Animation|Comedy|Crime|Mystery',\n",
       "       'Adventure|Animation|Children|Comedy|Musical|Romance',\n",
       "       'Action|Adventure|Drama|Sci-Fi|Thriller', 'Adventure|Fantasy|IMAX',\n",
       "       'Action|Crime|Horror|Mystery|Thriller', 'Comedy|Fantasy|Thriller',\n",
       "       'Action|Adventure|Drama|Romance|War', 'Comedy|Documentary|Drama',\n",
       "       'Crime|Drama|Film-Noir|Romance', 'Crime|Drama|Horror',\n",
       "       'Adventure|Comedy|Fantasy|Musical', 'Adventure|Animation|Drama',\n",
       "       'Children|Musical|Romance', 'Comedy|Drama|Fantasy|Mystery',\n",
       "       'Action|Crime|Fantasy', 'Comedy|Drama|Sci-Fi|War',\n",
       "       'Adventure|Drama|Horror|Sci-Fi|Thriller',\n",
       "       'Action|Adventure|Animation|Comedy',\n",
       "       'Action|Adventure|Animation|Children|Comedy',\n",
       "       'Adventure|Animation|Children|Fantasy|IMAX',\n",
       "       'Action|Adventure|Drama|Mystery|Thriller',\n",
       "       'Action|Fantasy|Horror|Thriller', 'Fantasy',\n",
       "       'Adventure|Crime|Horror|Thriller', 'Crime|Film-Noir|Romance',\n",
       "       'Crime|Documentary|War', 'Children|Comedy|Musical|Romance',\n",
       "       'Adventure|Animation|Children|Comedy|Drama|Fantasy|Musical|Romance',\n",
       "       'Action|Crime|Drama|Film-Noir|Thriller', 'Drama|Horror|War',\n",
       "       'Fantasy|Western', 'Adventure|Comedy|Horror|Romance',\n",
       "       'Comedy|Drama|Romance|Sci-Fi', 'Action|Fantasy|Horror|Romance',\n",
       "       'Animation|Fantasy|Mystery',\n",
       "       'Action|Animation|Crime|Drama|Film-Noir|Mystery|Sci-Fi|Thriller',\n",
       "       'Adventure|Animation|Comedy|Fantasy|Romance',\n",
       "       'Drama|Romance|Thriller|War',\n",
       "       'Adventure|Animation|Children|Musical|Romance',\n",
       "       'Action|Documentary|Drama|Thriller',\n",
       "       'Action|Adventure|Comedy|Sci-Fi|Thriller',\n",
       "       'Action|Animation|Drama|Fantasy|Sci-Fi',\n",
       "       'Drama|Fantasy|Romance|Sci-Fi',\n",
       "       'Drama|Horror|Mystery|Romance|Thriller',\n",
       "       'Crime|Drama|Mystery|Thriller|War', 'Action|Animation|Horror',\n",
       "       'Drama|Sci-Fi|War', 'Action|Animation|Drama|Sci-Fi',\n",
       "       'Drama|Mystery|Romance|War',\n",
       "       'Action|Animation|Drama|Sci-Fi|Thriller',\n",
       "       'Children|Comedy|Crime|Drama|Fantasy',\n",
       "       'Comedy|Drama|Fantasy|Musical|Romance', 'Action|Horror|Sci-Fi|War',\n",
       "       'Adventure|Animation|Fantasy|Musical|Sci-Fi',\n",
       "       'Crime|Documentary|Drama',\n",
       "       'Animation|Drama|Mystery|Sci-Fi|Thriller',\n",
       "       'Comedy|Crime|Drama|Horror|Mystery',\n",
       "       'Adventure|Children|Comedy|Fantasy|IMAX', 'Animation|Documentary',\n",
       "       'Drama|Horror|Mystery|Sci-Fi|Thriller', 'Drama|Horror|Musical',\n",
       "       'Animation|Fantasy|Sci-Fi|War', 'Action|Animation|Fantasy|Sci-Fi',\n",
       "       'Action|Adventure|Crime|Drama', 'Documentary|Drama|Sci-Fi',\n",
       "       'Adventure|Animation|Fantasy|Romance',\n",
       "       'Action|Fantasy|Horror|Mystery|Sci-Fi|Thriller',\n",
       "       'Adventure|Comedy|Crime|Drama|Mystery|Thriller',\n",
       "       'Comedy|Crime|Musical',\n",
       "       'Adventure|Animation|Children|Comedy|Fantasy|Sci-Fi|IMAX',\n",
       "       'Adventure|Animation|Comedy|Fantasy',\n",
       "       'Adventure|Drama|War|Western', 'Animation|Fantasy|Sci-Fi|Thriller',\n",
       "       'Animation|Comedy|Drama',\n",
       "       'Action|Crime|Film-Noir|Mystery|Thriller',\n",
       "       'Horror|Mystery|Romance', 'Children|Documentary',\n",
       "       'Action|Crime|IMAX',\n",
       "       'Action|Adventure|Comedy|Musical|Romance|Thriller',\n",
       "       'Adventure|Animation|Children|Comedy|Fantasy|War',\n",
       "       'Action|Adventure|Horror|Mystery|Sci-Fi|Thriller',\n",
       "       'Action|Crime|Drama|Thriller|War', 'Action|Drama|Musical|War',\n",
       "       'Crime|Drama|Horror|Thriller',\n",
       "       'Animation|Comedy|Fantasy|Musical|Romance',\n",
       "       'Action|Adventure|Animation|Fantasy|Sci-Fi',\n",
       "       'Adventure|Children|Drama|Fantasy',\n",
       "       'Comedy|Drama|Musical|Romance|War',\n",
       "       'Action|Comedy|Horror|Romance|Sci-Fi',\n",
       "       'Action|Adventure|Animation|Children|Comedy|Sci-Fi',\n",
       "       'Adventure|Drama|Horror|Thriller',\n",
       "       'Adventure|Fantasy|Thriller|IMAX', 'Crime|Drama|Thriller|War',\n",
       "       'Action|Adventure|Comedy|Drama|Romance',\n",
       "       'Adventure|Drama|Thriller|War', 'Action|Comedy|Crime|Western',\n",
       "       'Action|Fantasy|Sci-Fi|Thriller',\n",
       "       'Action|Drama|Fantasy|Horror|Mystery|Sci-Fi|Thriller',\n",
       "       'Action|Sci-Fi|Thriller|IMAX', 'Action|Crime|Mystery',\n",
       "       'Crime|Drama|Film-Noir|Mystery',\n",
       "       'Action|Animation|Film-Noir|Sci-Fi|Thriller',\n",
       "       'Action|Adventure|Thriller|IMAX',\n",
       "       'Adventure|Comedy|Drama|Fantasy|Romance',\n",
       "       'Drama|Film-Noir|Horror|Mystery',\n",
       "       'Children|Comedy|Drama|Musical|Romance',\n",
       "       'Animation|Children|Fantasy|Mystery', 'Action|Comedy|Fantasy|IMAX',\n",
       "       'Adventure|Animation|Children|Comedy|Fantasy|IMAX',\n",
       "       'Comedy|Romance|Thriller|Western', 'Action|Crime|Drama|Romance',\n",
       "       'Adventure|Comedy|Drama|Fantasy',\n",
       "       'Adventure|Animation|Comedy|Fantasy|Romance|Sci-Fi',\n",
       "       'Fantasy|Musical', 'Adventure|Comedy|Sci-Fi|Thriller',\n",
       "       'Adventure|Animation|Children|Comedy|IMAX', 'Animation|Horror',\n",
       "       'Documentary|Drama|War',\n",
       "       'Action|Adventure|Crime|Drama|Thriller|War',\n",
       "       'Children|Comedy|Drama|Fantasy', 'Action|Fantasy|Thriller',\n",
       "       'Action|Comedy|Crime|Mystery', 'Action|Fantasy|War|IMAX',\n",
       "       'Comedy|Drama|Horror|Sci-Fi|Thriller',\n",
       "       'Drama|Fantasy|Mystery|Thriller',\n",
       "       'Action|Adventure|Animation|Children|Comedy|Fantasy',\n",
       "       'Action|Crime|Horror|Sci-Fi|Thriller',\n",
       "       'Adventure|Drama|Sci-Fi|Thriller',\n",
       "       'Animation|Comedy|Fantasy|Musical',\n",
       "       'Action|Adventure|Drama|Thriller|War',\n",
       "       'Action|Adventure|Animation|Comedy|Fantasy|Mystery|Sci-Fi',\n",
       "       'Crime|Drama|Fantasy|Mystery|Thriller',\n",
       "       'Action|Crime|Horror|Thriller', 'Animation|Mystery|Sci-Fi',\n",
       "       'Adventure|Crime|Thriller',\n",
       "       'Action|Adventure|Crime|Horror|Thriller',\n",
       "       'Comedy|Drama|Fantasy|Musical', 'Adventure|Drama|Fantasy|IMAX',\n",
       "       'Drama|Fantasy|Musical|Romance',\n",
       "       'Adventure|Comedy|Fantasy|Romance', 'Action|Crime|Drama|Western',\n",
       "       'Documentary|Fantasy', 'Action|Adventure|Comedy|Drama|Thriller',\n",
       "       'Action|Adventure|Animation|Crime|Fantasy', 'Animation|Drama',\n",
       "       'Action|Adventure|Animation|Fantasy|IMAX',\n",
       "       'Comedy|Drama|Sci-Fi|Thriller', 'Comedy|Drama|Horror|Thriller',\n",
       "       'Adventure|Animation|Children|Comedy|Fantasy|Musical|Romance',\n",
       "       'Action|Horror|Sci-Fi|Thriller|IMAX', 'Animation|Comedy|Sci-Fi',\n",
       "       'Drama|Horror|Musical|Thriller', 'Action|Mystery|Sci-Fi|Thriller',\n",
       "       'Animation|Comedy|Drama|Romance|Sci-Fi',\n",
       "       'Adventure|Children|Drama|Fantasy|IMAX',\n",
       "       'Adventure|Romance|Thriller', 'Crime|Drama|War',\n",
       "       'Action|Crime|Drama|IMAX', 'Documentary|Musical|IMAX',\n",
       "       'Action|Children|Sci-Fi|IMAX',\n",
       "       'Action|Animation|Children|Comedy|IMAX',\n",
       "       'Comedy|Crime|Drama|Horror', 'Adventure|War|Western',\n",
       "       'Adventure|Romance|Western',\n",
       "       'Adventure|Animation|Children|Romance|Sci-Fi',\n",
       "       'Action|Adventure|Comedy|Crime|Fantasy',\n",
       "       'Action|Animation|Comedy|Romance|Sci-Fi',\n",
       "       'Action|Adventure|Horror|Sci-Fi|Thriller',\n",
       "       'Adventure|Children|Comedy|Romance|Sci-Fi',\n",
       "       'Adventure|Crime|Drama|Horror|Mystery',\n",
       "       'Action|Drama|Mystery|Sci-Fi|Thriller|IMAX',\n",
       "       'Action|Comedy|Drama|Romance', 'Adventure|Comedy|Drama|Romance',\n",
       "       'Animation|Documentary|Drama|War', 'Drama|Fantasy|Horror|Romance',\n",
       "       'Action|Comedy|Fantasy|Thriller', 'Action|Crime|Thriller|IMAX',\n",
       "       'Action|Adventure|Animation|Comedy|Sci-Fi',\n",
       "       'Fantasy|Mystery|Sci-Fi|War',\n",
       "       'Action|Adventure|Animation|Comedy|Fantasy|Sci-Fi',\n",
       "       'Action|Adventure|Animation|Children|Comedy|IMAX',\n",
       "       'Children|Fantasy|Musical|Romance',\n",
       "       'Drama|Fantasy|Romance|Thriller', 'Drama|Sci-Fi|Thriller|IMAX',\n",
       "       'Action|Adventure|Animation',\n",
       "       'Action|Adventure|Fantasy|Horror|Romance',\n",
       "       'Action|Animation|Comedy|Sci-Fi', 'Adventure|Comedy|Mystery',\n",
       "       'Comedy|Drama|Musical|Sci-Fi',\n",
       "       'Action|Drama|Mystery|Sci-Fi|Thriller', 'Animation|Sci-Fi|IMAX',\n",
       "       'Drama|Fantasy|Sci-Fi|Thriller', 'Action|Comedy|IMAX',\n",
       "       'Adventure|Fantasy|Musical|Romance',\n",
       "       'Action|Animation|Mystery|Sci-Fi',\n",
       "       'Action|Adventure|Animation|Drama',\n",
       "       'Action|Adventure|Comedy|Horror',\n",
       "       'Action|Adventure|Animation|Children|Comedy|Romance',\n",
       "       'Action|Adventure|Animation|Horror',\n",
       "       'Adventure|Fantasy|Mystery|Romance|IMAX',\n",
       "       'Adventure|Children|Fantasy|Sci-Fi|Thriller',\n",
       "       'Action|Animation|Sci-Fi', 'Action|Comedy|Drama|Thriller',\n",
       "       'Adventure|Animation|Sci-Fi', 'Animation|Children|Fantasy|IMAX',\n",
       "       'Adventure|Crime|Drama|Western',\n",
       "       'Action|Animation|Comedy|Horror|Thriller',\n",
       "       'Action|Comedy|Horror|Romance', 'Action|Animation|Children|Sci-Fi',\n",
       "       'Adventure|Animation|Children|Comedy|Crime',\n",
       "       'Animation|Children|Drama|Fantasy|IMAX',\n",
       "       'Animation|Children|Comedy|Fantasy',\n",
       "       'Drama|Fantasy|Horror|Romance|Thriller',\n",
       "       'Crime|Drama|Fantasy|Horror|Thriller', 'Action|Animation|Fantasy',\n",
       "       'Children|Drama|Romance', 'Action|Adventure|Fantasy|Romance|IMAX',\n",
       "       'Fantasy|Romance|Thriller|IMAX',\n",
       "       'Adventure|Fantasy|Horror|Romance|Sci-Fi|Thriller',\n",
       "       'Action|Crime|Drama|Mystery|Sci-Fi|Thriller|IMAX',\n",
       "       'Action|Children|Drama', 'Action|Animation',\n",
       "       'Action|Comedy|Fantasy|Musical|Romance',\n",
       "       'Adventure|Animation|Fantasy|IMAX', 'Documentary|Mystery',\n",
       "       'Action|Adventure|Comedy|Crime|Drama|Film-Noir|Horror|Mystery|Thriller|Western',\n",
       "       'Horror|IMAX', 'Adventure|Drama|Horror|Mystery',\n",
       "       'Action|Animation|Children|Comedy|Sci-Fi|IMAX',\n",
       "       'Action|Adventure|Fantasy|IMAX',\n",
       "       'Animation|Children|Comedy|Fantasy|Musical|Romance|IMAX',\n",
       "       'Crime|Romance', 'Action|Comedy|Crime|Fantasy|Thriller|IMAX',\n",
       "       'Action|Fantasy|Western', 'Action|Sci-Fi|Thriller|Western|IMAX',\n",
       "       '(no genres listed)', 'Children|Comedy|Crime',\n",
       "       'Action|Adventure|Animation|Children|Comedy|Western',\n",
       "       'Romance|Sci-Fi|Thriller', 'Adventure|Animation|Comedy|Sci-Fi',\n",
       "       'Action|Adventure|Animation|Children|Comedy|Sci-Fi|IMAX',\n",
       "       'Action|Fantasy|Thriller|IMAX',\n",
       "       'Action|Adventure|Drama|Fantasy|IMAX',\n",
       "       'Action|Crime|Drama|Thriller|IMAX', 'Drama|Mystery|War',\n",
       "       'Action|Adventure|Sci-Fi|Thriller|War',\n",
       "       'Mystery|Sci-Fi|Thriller|IMAX', 'Action|Adventure|Sci-Fi|War|IMAX',\n",
       "       'Action|Adventure|Drama|Fantasy|Mystery|IMAX',\n",
       "       'Horror|Thriller|IMAX', 'Sci-Fi|Thriller|IMAX',\n",
       "       'Children|Mystery|Sci-Fi', 'Action|Drama|Sci-Fi|IMAX',\n",
       "       'Crime|Sci-Fi|Thriller', 'Action|Drama|Mystery|Thriller',\n",
       "       'Action|Animation|Crime',\n",
       "       'Adventure|Animation|Comedy|Fantasy|IMAX',\n",
       "       'Action|Animation|Mystery|IMAX', 'Children|Drama|Mystery',\n",
       "       'Action|Drama|Fantasy', 'Children|Comedy|Crime|Drama',\n",
       "       'Animation|Children|Comedy|Drama', 'Action|Crime|Film-Noir',\n",
       "       'Action|Adventure|Crime|IMAX',\n",
       "       'Action|Adventure|Drama|Thriller|IMAX',\n",
       "       'Action|Adventure|Comedy|Crime|Mystery|Thriller',\n",
       "       'Action|Fantasy|Horror|IMAX',\n",
       "       'Adventure|Animation|Drama|Mystery|Sci-Fi',\n",
       "       'Action|Adventure|Comedy|Sci-Fi|IMAX',\n",
       "       'Animation|Fantasy|Musical|IMAX', 'Comedy|Horror|IMAX',\n",
       "       'Action|Comedy|Sci-Fi|IMAX', 'Action|Horror|Sci-Fi|IMAX',\n",
       "       'Action|Adventure|Animation|Children',\n",
       "       'Action|Adventure|Animation|Sci-Fi|Thriller',\n",
       "       'Comedy|Drama|Musical|IMAX', 'Children|Musical|Mystery',\n",
       "       'Adventure|Comedy|Fantasy|Musical|Romance',\n",
       "       'Drama|Fantasy|Musical|Mystery|Sci-Fi',\n",
       "       'Adventure|Documentary|Drama', 'Drama|Sci-Fi|IMAX',\n",
       "       'Action|Adventure|Comedy|Documentary|Fantasy',\n",
       "       'Children|Comedy|Drama|Musical', 'Animation|Comedy|Romance',\n",
       "       'Adventure|Musical|Romance', 'Drama|Musical|Romance|IMAX',\n",
       "       'Animation|Comedy|Drama|Fantasy|Sci-Fi',\n",
       "       'Action|Adventure|Fantasy|Sci-Fi|IMAX', 'Action|Drama|Horror|IMAX',\n",
       "       'Animation|Children|Comedy|IMAX', 'Action|Drama|Thriller|IMAX',\n",
       "       'Action|Adventure|Western|IMAX', 'Action|IMAX',\n",
       "       'Action|Adventure|Drama|IMAX', 'Action|Sci-Fi|IMAX',\n",
       "       'Adventure|Drama|Thriller|IMAX',\n",
       "       'Crime|Horror|Mystery|Romance|Thriller', 'Children|Drama|War',\n",
       "       'Action|Adventure|Animation|Comedy|Fantasy',\n",
       "       'Adventure|Animation|Comedy|Fantasy|Musical|Romance',\n",
       "       'Action|Animation|Sci-Fi|Western', 'Action|Animation|Drama',\n",
       "       'Drama|Horror|Romance', 'Action|Animation|Fantasy|IMAX',\n",
       "       'Adventure|Romance|Sci-Fi|IMAX', 'Action|Fantasy|Sci-Fi|IMAX',\n",
       "       'Action|Crime|Sci-Fi|IMAX',\n",
       "       'Action|Adventure|Animation|Crime|Sci-Fi', 'Sci-Fi|IMAX',\n",
       "       'Action|Drama|War|IMAX', 'Adventure|Drama|Horror',\n",
       "       'Action|Animation|Children|Comedy|Musical', 'Documentary|Sci-Fi',\n",
       "       'Action|Adventure|Children|IMAX', 'Action|Animation|Children',\n",
       "       'Horror|War', 'Action|Animation|Comedy',\n",
       "       'Adventure|Animation|Romance',\n",
       "       'Action|Animation|Children|Fantasy|Sci-Fi',\n",
       "       'Horror|Romance|Thriller',\n",
       "       'Action|Adventure|Children|Mystery|Sci-Fi',\n",
       "       'Action|Comedy|Fantasy|Sci-Fi',\n",
       "       'Adventure|Animation|Children|Comedy|Drama|Fantasy',\n",
       "       'Adventure|Children|Comedy|Sci-Fi', 'Action|Adventure|Crime',\n",
       "       'Children|Crime|Documentary', 'Action|Comedy|Sci-Fi|Thriller',\n",
       "       'Action|Adventure|Animation|Drama|Fantasy|Sci-Fi'], dtype=object)"
      ]
     },
     "execution_count": 6,
     "metadata": {},
     "output_type": "execute_result"
    }
   ],
   "source": [
    "movies.genres.unique()"
   ]
  },
  {
   "cell_type": "code",
   "execution_count": 7,
   "metadata": {},
   "outputs": [
    {
     "data": {
      "text/plain": [
       "902"
      ]
     },
     "execution_count": 7,
     "metadata": {},
     "output_type": "execute_result"
    }
   ],
   "source": [
    "len(movies.genres.unique())"
   ]
  },
  {
   "cell_type": "code",
   "execution_count": 8,
   "metadata": {
    "collapsed": true
   },
   "outputs": [],
   "source": [
    "ratings = pd.read_csv('./data/ratings.csv')"
   ]
  },
  {
   "cell_type": "code",
   "execution_count": 9,
   "metadata": {},
   "outputs": [
    {
     "data": {
      "text/html": [
       "<div>\n",
       "<style>\n",
       "    .dataframe thead tr:only-child th {\n",
       "        text-align: right;\n",
       "    }\n",
       "\n",
       "    .dataframe thead th {\n",
       "        text-align: left;\n",
       "    }\n",
       "\n",
       "    .dataframe tbody tr th {\n",
       "        vertical-align: top;\n",
       "    }\n",
       "</style>\n",
       "<table border=\"1\" class=\"dataframe\">\n",
       "  <thead>\n",
       "    <tr style=\"text-align: right;\">\n",
       "      <th></th>\n",
       "      <th>userId</th>\n",
       "      <th>movieId</th>\n",
       "      <th>rating</th>\n",
       "      <th>timestamp</th>\n",
       "    </tr>\n",
       "  </thead>\n",
       "  <tbody>\n",
       "    <tr>\n",
       "      <th>0</th>\n",
       "      <td>1</td>\n",
       "      <td>31</td>\n",
       "      <td>2.5</td>\n",
       "      <td>1260759144</td>\n",
       "    </tr>\n",
       "    <tr>\n",
       "      <th>1</th>\n",
       "      <td>1</td>\n",
       "      <td>1029</td>\n",
       "      <td>3.0</td>\n",
       "      <td>1260759179</td>\n",
       "    </tr>\n",
       "    <tr>\n",
       "      <th>2</th>\n",
       "      <td>1</td>\n",
       "      <td>1061</td>\n",
       "      <td>3.0</td>\n",
       "      <td>1260759182</td>\n",
       "    </tr>\n",
       "    <tr>\n",
       "      <th>3</th>\n",
       "      <td>1</td>\n",
       "      <td>1129</td>\n",
       "      <td>2.0</td>\n",
       "      <td>1260759185</td>\n",
       "    </tr>\n",
       "    <tr>\n",
       "      <th>4</th>\n",
       "      <td>1</td>\n",
       "      <td>1172</td>\n",
       "      <td>4.0</td>\n",
       "      <td>1260759205</td>\n",
       "    </tr>\n",
       "  </tbody>\n",
       "</table>\n",
       "</div>"
      ],
      "text/plain": [
       "   userId  movieId  rating   timestamp\n",
       "0       1       31     2.5  1260759144\n",
       "1       1     1029     3.0  1260759179\n",
       "2       1     1061     3.0  1260759182\n",
       "3       1     1129     2.0  1260759185\n",
       "4       1     1172     4.0  1260759205"
      ]
     },
     "execution_count": 9,
     "metadata": {},
     "output_type": "execute_result"
    }
   ],
   "source": [
    "ratings.head()"
   ]
  },
  {
   "cell_type": "code",
   "execution_count": 10,
   "metadata": {},
   "outputs": [
    {
     "data": {
      "text/plain": [
       "(100004, 4)"
      ]
     },
     "execution_count": 10,
     "metadata": {},
     "output_type": "execute_result"
    }
   ],
   "source": [
    "ratings.shape"
   ]
  },
  {
   "cell_type": "code",
   "execution_count": 11,
   "metadata": {},
   "outputs": [
    {
     "name": "stdout",
     "output_type": "stream",
     "text": [
      "<class 'pandas.core.frame.DataFrame'>\n",
      "RangeIndex: 100004 entries, 0 to 100003\n",
      "Data columns (total 4 columns):\n",
      "userId       100004 non-null int64\n",
      "movieId      100004 non-null int64\n",
      "rating       100004 non-null float64\n",
      "timestamp    100004 non-null int64\n",
      "dtypes: float64(1), int64(3)\n",
      "memory usage: 3.1 MB\n"
     ]
    }
   ],
   "source": [
    "ratings.info()"
   ]
  },
  {
   "cell_type": "code",
   "execution_count": 12,
   "metadata": {
    "collapsed": true
   },
   "outputs": [],
   "source": [
    "unique_rated_movies = ratings.movieId.unique()"
   ]
  },
  {
   "cell_type": "code",
   "execution_count": 13,
   "metadata": {},
   "outputs": [
    {
     "data": {
      "text/plain": [
       "numpy.ndarray"
      ]
     },
     "execution_count": 13,
     "metadata": {},
     "output_type": "execute_result"
    }
   ],
   "source": [
    "type(unique_rated_movies)"
   ]
  },
  {
   "cell_type": "code",
   "execution_count": 14,
   "metadata": {},
   "outputs": [
    {
     "data": {
      "text/plain": [
       "9066"
      ]
     },
     "execution_count": 14,
     "metadata": {},
     "output_type": "execute_result"
    }
   ],
   "source": [
    "len(unique_rated_movies)"
   ]
  },
  {
   "cell_type": "code",
   "execution_count": 15,
   "metadata": {
    "collapsed": true
   },
   "outputs": [],
   "source": [
    "tags = pd.read_csv('./data/tags.csv')"
   ]
  },
  {
   "cell_type": "code",
   "execution_count": 16,
   "metadata": {},
   "outputs": [
    {
     "data": {
      "text/plain": [
       "(1296, 4)"
      ]
     },
     "execution_count": 16,
     "metadata": {},
     "output_type": "execute_result"
    }
   ],
   "source": [
    "tags.shape"
   ]
  },
  {
   "cell_type": "code",
   "execution_count": 17,
   "metadata": {},
   "outputs": [
    {
     "data": {
      "text/html": [
       "<div>\n",
       "<style>\n",
       "    .dataframe thead tr:only-child th {\n",
       "        text-align: right;\n",
       "    }\n",
       "\n",
       "    .dataframe thead th {\n",
       "        text-align: left;\n",
       "    }\n",
       "\n",
       "    .dataframe tbody tr th {\n",
       "        vertical-align: top;\n",
       "    }\n",
       "</style>\n",
       "<table border=\"1\" class=\"dataframe\">\n",
       "  <thead>\n",
       "    <tr style=\"text-align: right;\">\n",
       "      <th></th>\n",
       "      <th>userId</th>\n",
       "      <th>movieId</th>\n",
       "      <th>tag</th>\n",
       "      <th>timestamp</th>\n",
       "    </tr>\n",
       "  </thead>\n",
       "  <tbody>\n",
       "    <tr>\n",
       "      <th>0</th>\n",
       "      <td>15</td>\n",
       "      <td>339</td>\n",
       "      <td>sandra 'boring' bullock</td>\n",
       "      <td>1138537770</td>\n",
       "    </tr>\n",
       "    <tr>\n",
       "      <th>1</th>\n",
       "      <td>15</td>\n",
       "      <td>1955</td>\n",
       "      <td>dentist</td>\n",
       "      <td>1193435061</td>\n",
       "    </tr>\n",
       "    <tr>\n",
       "      <th>2</th>\n",
       "      <td>15</td>\n",
       "      <td>7478</td>\n",
       "      <td>Cambodia</td>\n",
       "      <td>1170560997</td>\n",
       "    </tr>\n",
       "    <tr>\n",
       "      <th>3</th>\n",
       "      <td>15</td>\n",
       "      <td>32892</td>\n",
       "      <td>Russian</td>\n",
       "      <td>1170626366</td>\n",
       "    </tr>\n",
       "    <tr>\n",
       "      <th>4</th>\n",
       "      <td>15</td>\n",
       "      <td>34162</td>\n",
       "      <td>forgettable</td>\n",
       "      <td>1141391765</td>\n",
       "    </tr>\n",
       "  </tbody>\n",
       "</table>\n",
       "</div>"
      ],
      "text/plain": [
       "   userId  movieId                      tag   timestamp\n",
       "0      15      339  sandra 'boring' bullock  1138537770\n",
       "1      15     1955                  dentist  1193435061\n",
       "2      15     7478                 Cambodia  1170560997\n",
       "3      15    32892                  Russian  1170626366\n",
       "4      15    34162              forgettable  1141391765"
      ]
     },
     "execution_count": 17,
     "metadata": {},
     "output_type": "execute_result"
    }
   ],
   "source": [
    "tags.head()"
   ]
  },
  {
   "cell_type": "code",
   "execution_count": 18,
   "metadata": {},
   "outputs": [
    {
     "name": "stdout",
     "output_type": "stream",
     "text": [
      "<class 'pandas.core.frame.DataFrame'>\n",
      "RangeIndex: 1296 entries, 0 to 1295\n",
      "Data columns (total 4 columns):\n",
      "userId       1296 non-null int64\n",
      "movieId      1296 non-null int64\n",
      "tag          1296 non-null object\n",
      "timestamp    1296 non-null int64\n",
      "dtypes: int64(3), object(1)\n",
      "memory usage: 40.6+ KB\n"
     ]
    }
   ],
   "source": [
    "tags.info()"
   ]
  },
  {
   "cell_type": "code",
   "execution_count": 19,
   "metadata": {
    "collapsed": true
   },
   "outputs": [],
   "source": [
    "links = pd.read_csv('./data/links.csv')"
   ]
  },
  {
   "cell_type": "code",
   "execution_count": 20,
   "metadata": {},
   "outputs": [
    {
     "data": {
      "text/plain": [
       "(9125, 3)"
      ]
     },
     "execution_count": 20,
     "metadata": {},
     "output_type": "execute_result"
    }
   ],
   "source": [
    "links.shape"
   ]
  },
  {
   "cell_type": "code",
   "execution_count": 21,
   "metadata": {},
   "outputs": [
    {
     "data": {
      "text/html": [
       "<div>\n",
       "<style>\n",
       "    .dataframe thead tr:only-child th {\n",
       "        text-align: right;\n",
       "    }\n",
       "\n",
       "    .dataframe thead th {\n",
       "        text-align: left;\n",
       "    }\n",
       "\n",
       "    .dataframe tbody tr th {\n",
       "        vertical-align: top;\n",
       "    }\n",
       "</style>\n",
       "<table border=\"1\" class=\"dataframe\">\n",
       "  <thead>\n",
       "    <tr style=\"text-align: right;\">\n",
       "      <th></th>\n",
       "      <th>movieId</th>\n",
       "      <th>imdbId</th>\n",
       "      <th>tmdbId</th>\n",
       "    </tr>\n",
       "  </thead>\n",
       "  <tbody>\n",
       "    <tr>\n",
       "      <th>0</th>\n",
       "      <td>1</td>\n",
       "      <td>114709</td>\n",
       "      <td>862.0</td>\n",
       "    </tr>\n",
       "    <tr>\n",
       "      <th>1</th>\n",
       "      <td>2</td>\n",
       "      <td>113497</td>\n",
       "      <td>8844.0</td>\n",
       "    </tr>\n",
       "    <tr>\n",
       "      <th>2</th>\n",
       "      <td>3</td>\n",
       "      <td>113228</td>\n",
       "      <td>15602.0</td>\n",
       "    </tr>\n",
       "    <tr>\n",
       "      <th>3</th>\n",
       "      <td>4</td>\n",
       "      <td>114885</td>\n",
       "      <td>31357.0</td>\n",
       "    </tr>\n",
       "    <tr>\n",
       "      <th>4</th>\n",
       "      <td>5</td>\n",
       "      <td>113041</td>\n",
       "      <td>11862.0</td>\n",
       "    </tr>\n",
       "  </tbody>\n",
       "</table>\n",
       "</div>"
      ],
      "text/plain": [
       "   movieId  imdbId   tmdbId\n",
       "0        1  114709    862.0\n",
       "1        2  113497   8844.0\n",
       "2        3  113228  15602.0\n",
       "3        4  114885  31357.0\n",
       "4        5  113041  11862.0"
      ]
     },
     "execution_count": 21,
     "metadata": {},
     "output_type": "execute_result"
    }
   ],
   "source": [
    "links.head()"
   ]
  },
  {
   "cell_type": "code",
   "execution_count": 22,
   "metadata": {},
   "outputs": [
    {
     "name": "stdout",
     "output_type": "stream",
     "text": [
      "<class 'pandas.core.frame.DataFrame'>\n",
      "RangeIndex: 9125 entries, 0 to 9124\n",
      "Data columns (total 3 columns):\n",
      "movieId    9125 non-null int64\n",
      "imdbId     9125 non-null int64\n",
      "tmdbId     9112 non-null float64\n",
      "dtypes: float64(1), int64(2)\n",
      "memory usage: 213.9 KB\n"
     ]
    }
   ],
   "source": [
    "links.info()"
   ]
  },
  {
   "cell_type": "code",
   "execution_count": 23,
   "metadata": {
    "collapsed": true
   },
   "outputs": [],
   "source": [
    "user_ratings = pd.pivot_table(ratings, index='movieId', columns='userId', values='rating')"
   ]
  },
  {
   "cell_type": "code",
   "execution_count": 24,
   "metadata": {},
   "outputs": [
    {
     "data": {
      "text/html": [
       "<div>\n",
       "<style>\n",
       "    .dataframe thead tr:only-child th {\n",
       "        text-align: right;\n",
       "    }\n",
       "\n",
       "    .dataframe thead th {\n",
       "        text-align: left;\n",
       "    }\n",
       "\n",
       "    .dataframe tbody tr th {\n",
       "        vertical-align: top;\n",
       "    }\n",
       "</style>\n",
       "<table border=\"1\" class=\"dataframe\">\n",
       "  <thead>\n",
       "    <tr style=\"text-align: right;\">\n",
       "      <th>userId</th>\n",
       "      <th>1</th>\n",
       "      <th>2</th>\n",
       "      <th>3</th>\n",
       "      <th>4</th>\n",
       "      <th>5</th>\n",
       "      <th>6</th>\n",
       "      <th>7</th>\n",
       "      <th>8</th>\n",
       "      <th>9</th>\n",
       "      <th>10</th>\n",
       "      <th>...</th>\n",
       "      <th>662</th>\n",
       "      <th>663</th>\n",
       "      <th>664</th>\n",
       "      <th>665</th>\n",
       "      <th>666</th>\n",
       "      <th>667</th>\n",
       "      <th>668</th>\n",
       "      <th>669</th>\n",
       "      <th>670</th>\n",
       "      <th>671</th>\n",
       "    </tr>\n",
       "    <tr>\n",
       "      <th>movieId</th>\n",
       "      <th></th>\n",
       "      <th></th>\n",
       "      <th></th>\n",
       "      <th></th>\n",
       "      <th></th>\n",
       "      <th></th>\n",
       "      <th></th>\n",
       "      <th></th>\n",
       "      <th></th>\n",
       "      <th></th>\n",
       "      <th></th>\n",
       "      <th></th>\n",
       "      <th></th>\n",
       "      <th></th>\n",
       "      <th></th>\n",
       "      <th></th>\n",
       "      <th></th>\n",
       "      <th></th>\n",
       "      <th></th>\n",
       "      <th></th>\n",
       "      <th></th>\n",
       "    </tr>\n",
       "  </thead>\n",
       "  <tbody>\n",
       "    <tr>\n",
       "      <th>1</th>\n",
       "      <td>NaN</td>\n",
       "      <td>NaN</td>\n",
       "      <td>NaN</td>\n",
       "      <td>NaN</td>\n",
       "      <td>NaN</td>\n",
       "      <td>NaN</td>\n",
       "      <td>3.0</td>\n",
       "      <td>NaN</td>\n",
       "      <td>4.0</td>\n",
       "      <td>NaN</td>\n",
       "      <td>...</td>\n",
       "      <td>NaN</td>\n",
       "      <td>4.0</td>\n",
       "      <td>3.5</td>\n",
       "      <td>NaN</td>\n",
       "      <td>NaN</td>\n",
       "      <td>NaN</td>\n",
       "      <td>NaN</td>\n",
       "      <td>NaN</td>\n",
       "      <td>4.0</td>\n",
       "      <td>5.0</td>\n",
       "    </tr>\n",
       "    <tr>\n",
       "      <th>2</th>\n",
       "      <td>NaN</td>\n",
       "      <td>NaN</td>\n",
       "      <td>NaN</td>\n",
       "      <td>NaN</td>\n",
       "      <td>NaN</td>\n",
       "      <td>NaN</td>\n",
       "      <td>NaN</td>\n",
       "      <td>NaN</td>\n",
       "      <td>NaN</td>\n",
       "      <td>NaN</td>\n",
       "      <td>...</td>\n",
       "      <td>5.0</td>\n",
       "      <td>NaN</td>\n",
       "      <td>NaN</td>\n",
       "      <td>3.0</td>\n",
       "      <td>NaN</td>\n",
       "      <td>NaN</td>\n",
       "      <td>NaN</td>\n",
       "      <td>NaN</td>\n",
       "      <td>NaN</td>\n",
       "      <td>NaN</td>\n",
       "    </tr>\n",
       "    <tr>\n",
       "      <th>3</th>\n",
       "      <td>NaN</td>\n",
       "      <td>NaN</td>\n",
       "      <td>NaN</td>\n",
       "      <td>NaN</td>\n",
       "      <td>4.0</td>\n",
       "      <td>NaN</td>\n",
       "      <td>NaN</td>\n",
       "      <td>NaN</td>\n",
       "      <td>NaN</td>\n",
       "      <td>NaN</td>\n",
       "      <td>...</td>\n",
       "      <td>NaN</td>\n",
       "      <td>NaN</td>\n",
       "      <td>NaN</td>\n",
       "      <td>3.0</td>\n",
       "      <td>NaN</td>\n",
       "      <td>NaN</td>\n",
       "      <td>NaN</td>\n",
       "      <td>NaN</td>\n",
       "      <td>NaN</td>\n",
       "      <td>NaN</td>\n",
       "    </tr>\n",
       "    <tr>\n",
       "      <th>4</th>\n",
       "      <td>NaN</td>\n",
       "      <td>NaN</td>\n",
       "      <td>NaN</td>\n",
       "      <td>NaN</td>\n",
       "      <td>NaN</td>\n",
       "      <td>NaN</td>\n",
       "      <td>NaN</td>\n",
       "      <td>NaN</td>\n",
       "      <td>NaN</td>\n",
       "      <td>NaN</td>\n",
       "      <td>...</td>\n",
       "      <td>NaN</td>\n",
       "      <td>NaN</td>\n",
       "      <td>NaN</td>\n",
       "      <td>NaN</td>\n",
       "      <td>NaN</td>\n",
       "      <td>NaN</td>\n",
       "      <td>NaN</td>\n",
       "      <td>NaN</td>\n",
       "      <td>NaN</td>\n",
       "      <td>NaN</td>\n",
       "    </tr>\n",
       "    <tr>\n",
       "      <th>5</th>\n",
       "      <td>NaN</td>\n",
       "      <td>NaN</td>\n",
       "      <td>NaN</td>\n",
       "      <td>NaN</td>\n",
       "      <td>NaN</td>\n",
       "      <td>NaN</td>\n",
       "      <td>NaN</td>\n",
       "      <td>NaN</td>\n",
       "      <td>NaN</td>\n",
       "      <td>NaN</td>\n",
       "      <td>...</td>\n",
       "      <td>NaN</td>\n",
       "      <td>NaN</td>\n",
       "      <td>NaN</td>\n",
       "      <td>3.0</td>\n",
       "      <td>NaN</td>\n",
       "      <td>NaN</td>\n",
       "      <td>NaN</td>\n",
       "      <td>NaN</td>\n",
       "      <td>NaN</td>\n",
       "      <td>NaN</td>\n",
       "    </tr>\n",
       "  </tbody>\n",
       "</table>\n",
       "<p>5 rows × 671 columns</p>\n",
       "</div>"
      ],
      "text/plain": [
       "userId   1    2    3    4    5    6    7    8    9    10  ...   662  663  664  \\\n",
       "movieId                                                   ...                   \n",
       "1        NaN  NaN  NaN  NaN  NaN  NaN  3.0  NaN  4.0  NaN ...   NaN  4.0  3.5   \n",
       "2        NaN  NaN  NaN  NaN  NaN  NaN  NaN  NaN  NaN  NaN ...   5.0  NaN  NaN   \n",
       "3        NaN  NaN  NaN  NaN  4.0  NaN  NaN  NaN  NaN  NaN ...   NaN  NaN  NaN   \n",
       "4        NaN  NaN  NaN  NaN  NaN  NaN  NaN  NaN  NaN  NaN ...   NaN  NaN  NaN   \n",
       "5        NaN  NaN  NaN  NaN  NaN  NaN  NaN  NaN  NaN  NaN ...   NaN  NaN  NaN   \n",
       "\n",
       "userId   665  666  667  668  669  670  671  \n",
       "movieId                                     \n",
       "1        NaN  NaN  NaN  NaN  NaN  4.0  5.0  \n",
       "2        3.0  NaN  NaN  NaN  NaN  NaN  NaN  \n",
       "3        3.0  NaN  NaN  NaN  NaN  NaN  NaN  \n",
       "4        NaN  NaN  NaN  NaN  NaN  NaN  NaN  \n",
       "5        3.0  NaN  NaN  NaN  NaN  NaN  NaN  \n",
       "\n",
       "[5 rows x 671 columns]"
      ]
     },
     "execution_count": 24,
     "metadata": {},
     "output_type": "execute_result"
    }
   ],
   "source": [
    "user_ratings.head()"
   ]
  },
  {
   "cell_type": "code",
   "execution_count": 25,
   "metadata": {
    "collapsed": true
   },
   "outputs": [],
   "source": [
    "rating_665 = user_ratings[665]"
   ]
  },
  {
   "cell_type": "code",
   "execution_count": 26,
   "metadata": {},
   "outputs": [
    {
     "data": {
      "text/plain": [
       "movieId\n",
       "1    NaN\n",
       "2    3.0\n",
       "3    3.0\n",
       "4    NaN\n",
       "5    3.0\n",
       "Name: 665, dtype: float64"
      ]
     },
     "execution_count": 26,
     "metadata": {},
     "output_type": "execute_result"
    }
   ],
   "source": [
    "rating_665.head()"
   ]
  },
  {
   "cell_type": "code",
   "execution_count": 27,
   "metadata": {},
   "outputs": [
    {
     "name": "stderr",
     "output_type": "stream",
     "text": [
      "/Users/lakshmi/anaconda3/lib/python3.6/site-packages/numpy/lib/function_base.py:3175: RuntimeWarning: Degrees of freedom <= 0 for slice\n",
      "  c = cov(x, y, rowvar)\n",
      "/Users/lakshmi/anaconda3/lib/python3.6/site-packages/numpy/lib/function_base.py:3109: RuntimeWarning: divide by zero encountered in double_scalars\n",
      "  c *= 1. / np.float64(fact)\n"
     ]
    }
   ],
   "source": [
    "corr_665 = user_ratings.corrwith(rating_665)"
   ]
  },
  {
   "cell_type": "code",
   "execution_count": 28,
   "metadata": {
    "collapsed": true
   },
   "outputs": [],
   "source": [
    "corr_665 = corr_665.sort_values(ascending=False)"
   ]
  },
  {
   "cell_type": "code",
   "execution_count": 29,
   "metadata": {},
   "outputs": [
    {
     "data": {
      "text/plain": [
       "userId\n",
       "272    1.0\n",
       "665    1.0\n",
       "158    1.0\n",
       "540    1.0\n",
       "135    1.0\n",
       "dtype: float64"
      ]
     },
     "execution_count": 29,
     "metadata": {},
     "output_type": "execute_result"
    }
   ],
   "source": [
    "corr_665.head()"
   ]
  },
  {
   "cell_type": "code",
   "execution_count": 30,
   "metadata": {},
   "outputs": [
    {
     "data": {
      "text/plain": [
       "userId\n",
       "482   -1.000000\n",
       "403   -1.000000\n",
       "331   -1.000000\n",
       "301   -1.000000\n",
       "490   -0.891902\n",
       "dtype: float64"
      ]
     },
     "execution_count": 30,
     "metadata": {},
     "output_type": "execute_result"
    }
   ],
   "source": [
    "corr_665.sort_values(ascending=True).head()"
   ]
  },
  {
   "cell_type": "code",
   "execution_count": 31,
   "metadata": {},
   "outputs": [
    {
     "data": {
      "text/html": [
       "<div>\n",
       "<style>\n",
       "    .dataframe thead tr:only-child th {\n",
       "        text-align: right;\n",
       "    }\n",
       "\n",
       "    .dataframe thead th {\n",
       "        text-align: left;\n",
       "    }\n",
       "\n",
       "    .dataframe tbody tr th {\n",
       "        vertical-align: top;\n",
       "    }\n",
       "</style>\n",
       "<table border=\"1\" class=\"dataframe\">\n",
       "  <thead>\n",
       "    <tr style=\"text-align: right;\">\n",
       "      <th>userId</th>\n",
       "      <th>665</th>\n",
       "      <th>272</th>\n",
       "    </tr>\n",
       "    <tr>\n",
       "      <th>movieId</th>\n",
       "      <th></th>\n",
       "      <th></th>\n",
       "    </tr>\n",
       "  </thead>\n",
       "  <tbody>\n",
       "    <tr>\n",
       "      <th>260</th>\n",
       "      <td>4.0</td>\n",
       "      <td>4.0</td>\n",
       "    </tr>\n",
       "    <tr>\n",
       "      <th>3793</th>\n",
       "      <td>4.0</td>\n",
       "      <td>4.0</td>\n",
       "    </tr>\n",
       "    <tr>\n",
       "      <th>4367</th>\n",
       "      <td>4.0</td>\n",
       "      <td>4.0</td>\n",
       "    </tr>\n",
       "    <tr>\n",
       "      <th>4993</th>\n",
       "      <td>5.0</td>\n",
       "      <td>5.0</td>\n",
       "    </tr>\n",
       "  </tbody>\n",
       "</table>\n",
       "</div>"
      ],
      "text/plain": [
       "userId   665  272\n",
       "movieId          \n",
       "260      4.0  4.0\n",
       "3793     4.0  4.0\n",
       "4367     4.0  4.0\n",
       "4993     5.0  5.0"
      ]
     },
     "execution_count": 31,
     "metadata": {},
     "output_type": "execute_result"
    }
   ],
   "source": [
    "user_ratings[[665,272]].dropna()"
   ]
  },
  {
   "cell_type": "code",
   "execution_count": 32,
   "metadata": {},
   "outputs": [
    {
     "data": {
      "text/html": [
       "<div>\n",
       "<style>\n",
       "    .dataframe thead tr:only-child th {\n",
       "        text-align: right;\n",
       "    }\n",
       "\n",
       "    .dataframe thead th {\n",
       "        text-align: left;\n",
       "    }\n",
       "\n",
       "    .dataframe tbody tr th {\n",
       "        vertical-align: top;\n",
       "    }\n",
       "</style>\n",
       "<table border=\"1\" class=\"dataframe\">\n",
       "  <thead>\n",
       "    <tr style=\"text-align: right;\">\n",
       "      <th></th>\n",
       "      <th>userId</th>\n",
       "      <th>movieId</th>\n",
       "      <th>rating</th>\n",
       "    </tr>\n",
       "  </thead>\n",
       "  <tbody>\n",
       "    <tr>\n",
       "      <th>0</th>\n",
       "      <td>1</td>\n",
       "      <td>31</td>\n",
       "      <td>2.5</td>\n",
       "    </tr>\n",
       "    <tr>\n",
       "      <th>3</th>\n",
       "      <td>1</td>\n",
       "      <td>1129</td>\n",
       "      <td>2.0</td>\n",
       "    </tr>\n",
       "    <tr>\n",
       "      <th>4</th>\n",
       "      <td>1</td>\n",
       "      <td>1172</td>\n",
       "      <td>4.0</td>\n",
       "    </tr>\n",
       "    <tr>\n",
       "      <th>5</th>\n",
       "      <td>1</td>\n",
       "      <td>1263</td>\n",
       "      <td>2.0</td>\n",
       "    </tr>\n",
       "    <tr>\n",
       "      <th>6</th>\n",
       "      <td>1</td>\n",
       "      <td>1287</td>\n",
       "      <td>2.0</td>\n",
       "    </tr>\n",
       "  </tbody>\n",
       "</table>\n",
       "</div>"
      ],
      "text/plain": [
       "   userId  movieId  rating\n",
       "0       1       31     2.5\n",
       "3       1     1129     2.0\n",
       "4       1     1172     4.0\n",
       "5       1     1263     2.0\n",
       "6       1     1287     2.0"
      ]
     },
     "execution_count": 32,
     "metadata": {},
     "output_type": "execute_result"
    }
   ],
   "source": [
    "# User ratings for movies not rated by user 665\n",
    "movies_unrated = ratings[rating_665[ratings.movieId].isnull().values]\n",
    "movies_unrated = movies_unrated.drop(['timestamp'],axis=1)\n",
    "movies_unrated.head()"
   ]
  },
  {
   "cell_type": "code",
   "execution_count": 33,
   "metadata": {
    "collapsed": true
   },
   "outputs": [],
   "source": [
    "movies_unrated['correlation'] = movies_unrated['userId'].map(corr_665.get)"
   ]
  },
  {
   "cell_type": "code",
   "execution_count": 34,
   "metadata": {},
   "outputs": [
    {
     "data": {
      "text/html": [
       "<div>\n",
       "<style>\n",
       "    .dataframe thead tr:only-child th {\n",
       "        text-align: right;\n",
       "    }\n",
       "\n",
       "    .dataframe thead th {\n",
       "        text-align: left;\n",
       "    }\n",
       "\n",
       "    .dataframe tbody tr th {\n",
       "        vertical-align: top;\n",
       "    }\n",
       "</style>\n",
       "<table border=\"1\" class=\"dataframe\">\n",
       "  <thead>\n",
       "    <tr style=\"text-align: right;\">\n",
       "      <th></th>\n",
       "      <th>userId</th>\n",
       "      <th>movieId</th>\n",
       "      <th>rating</th>\n",
       "      <th>correlation</th>\n",
       "    </tr>\n",
       "  </thead>\n",
       "  <tbody>\n",
       "    <tr>\n",
       "      <th>0</th>\n",
       "      <td>1</td>\n",
       "      <td>31</td>\n",
       "      <td>2.5</td>\n",
       "      <td>0.132453</td>\n",
       "    </tr>\n",
       "    <tr>\n",
       "      <th>3</th>\n",
       "      <td>1</td>\n",
       "      <td>1129</td>\n",
       "      <td>2.0</td>\n",
       "      <td>0.132453</td>\n",
       "    </tr>\n",
       "    <tr>\n",
       "      <th>4</th>\n",
       "      <td>1</td>\n",
       "      <td>1172</td>\n",
       "      <td>4.0</td>\n",
       "      <td>0.132453</td>\n",
       "    </tr>\n",
       "    <tr>\n",
       "      <th>5</th>\n",
       "      <td>1</td>\n",
       "      <td>1263</td>\n",
       "      <td>2.0</td>\n",
       "      <td>0.132453</td>\n",
       "    </tr>\n",
       "    <tr>\n",
       "      <th>6</th>\n",
       "      <td>1</td>\n",
       "      <td>1287</td>\n",
       "      <td>2.0</td>\n",
       "      <td>0.132453</td>\n",
       "    </tr>\n",
       "  </tbody>\n",
       "</table>\n",
       "</div>"
      ],
      "text/plain": [
       "   userId  movieId  rating  correlation\n",
       "0       1       31     2.5     0.132453\n",
       "3       1     1129     2.0     0.132453\n",
       "4       1     1172     4.0     0.132453\n",
       "5       1     1263     2.0     0.132453\n",
       "6       1     1287     2.0     0.132453"
      ]
     },
     "execution_count": 34,
     "metadata": {},
     "output_type": "execute_result"
    }
   ],
   "source": [
    "movies_unrated.head()"
   ]
  },
  {
   "cell_type": "code",
   "execution_count": 35,
   "metadata": {
    "collapsed": true
   },
   "outputs": [],
   "source": [
    "movies_unrated['corr_rating'] = movies_unrated['rating'] * movies_unrated['correlation']"
   ]
  },
  {
   "cell_type": "code",
   "execution_count": 36,
   "metadata": {},
   "outputs": [
    {
     "data": {
      "text/html": [
       "<div>\n",
       "<style>\n",
       "    .dataframe thead tr:only-child th {\n",
       "        text-align: right;\n",
       "    }\n",
       "\n",
       "    .dataframe thead th {\n",
       "        text-align: left;\n",
       "    }\n",
       "\n",
       "    .dataframe tbody tr th {\n",
       "        vertical-align: top;\n",
       "    }\n",
       "</style>\n",
       "<table border=\"1\" class=\"dataframe\">\n",
       "  <thead>\n",
       "    <tr style=\"text-align: right;\">\n",
       "      <th></th>\n",
       "      <th>userId</th>\n",
       "      <th>movieId</th>\n",
       "      <th>rating</th>\n",
       "      <th>correlation</th>\n",
       "      <th>corr_rating</th>\n",
       "    </tr>\n",
       "  </thead>\n",
       "  <tbody>\n",
       "    <tr>\n",
       "      <th>0</th>\n",
       "      <td>1</td>\n",
       "      <td>31</td>\n",
       "      <td>2.5</td>\n",
       "      <td>0.132453</td>\n",
       "      <td>0.331133</td>\n",
       "    </tr>\n",
       "    <tr>\n",
       "      <th>3</th>\n",
       "      <td>1</td>\n",
       "      <td>1129</td>\n",
       "      <td>2.0</td>\n",
       "      <td>0.132453</td>\n",
       "      <td>0.264906</td>\n",
       "    </tr>\n",
       "    <tr>\n",
       "      <th>4</th>\n",
       "      <td>1</td>\n",
       "      <td>1172</td>\n",
       "      <td>4.0</td>\n",
       "      <td>0.132453</td>\n",
       "      <td>0.529813</td>\n",
       "    </tr>\n",
       "    <tr>\n",
       "      <th>5</th>\n",
       "      <td>1</td>\n",
       "      <td>1263</td>\n",
       "      <td>2.0</td>\n",
       "      <td>0.132453</td>\n",
       "      <td>0.264906</td>\n",
       "    </tr>\n",
       "    <tr>\n",
       "      <th>6</th>\n",
       "      <td>1</td>\n",
       "      <td>1287</td>\n",
       "      <td>2.0</td>\n",
       "      <td>0.132453</td>\n",
       "      <td>0.264906</td>\n",
       "    </tr>\n",
       "  </tbody>\n",
       "</table>\n",
       "</div>"
      ],
      "text/plain": [
       "   userId  movieId  rating  correlation  corr_rating\n",
       "0       1       31     2.5     0.132453     0.331133\n",
       "3       1     1129     2.0     0.132453     0.264906\n",
       "4       1     1172     4.0     0.132453     0.529813\n",
       "5       1     1263     2.0     0.132453     0.264906\n",
       "6       1     1287     2.0     0.132453     0.264906"
      ]
     },
     "execution_count": 36,
     "metadata": {},
     "output_type": "execute_result"
    }
   ],
   "source": [
    "movies_unrated.head()"
   ]
  },
  {
   "cell_type": "code",
   "execution_count": 37,
   "metadata": {},
   "outputs": [
    {
     "name": "stderr",
     "output_type": "stream",
     "text": [
      "/Users/lakshmi/anaconda3/lib/python3.6/site-packages/ipykernel_launcher.py:1: RuntimeWarning: invalid value encountered in true_divide\n",
      "  \"\"\"Entry point for launching an IPython kernel.\n"
     ]
    }
   ],
   "source": [
    "recommendation = movies_unrated.groupby('movieId').apply(lambda r: r.corr_rating.sum()/r.corr_rating.count())"
   ]
  },
  {
   "cell_type": "code",
   "execution_count": 38,
   "metadata": {
    "collapsed": true
   },
   "outputs": [],
   "source": [
    "recommendation2 = movies_unrated.groupby('movieId').apply(lambda r: r.corr_rating.sum()/r.correlation.sum() if r.correlation.sum() != 0 else 0)"
   ]
  },
  {
   "cell_type": "code",
   "execution_count": 39,
   "metadata": {},
   "outputs": [
    {
     "data": {
      "text/plain": [
       "movieId\n",
       "101741    718.544778\n",
       "4658      449.760716\n",
       "2715       79.155585\n",
       "3992       63.364478\n",
       "5841       53.697547\n",
       "dtype: float64"
      ]
     },
     "execution_count": 39,
     "metadata": {},
     "output_type": "execute_result"
    }
   ],
   "source": [
    "recommendation2.sort_values(ascending=False).head()"
   ]
  },
  {
   "cell_type": "code",
   "execution_count": 40,
   "metadata": {},
   "outputs": [
    {
     "data": {
      "text/plain": [
       "userId\n",
       "378    4.5\n",
       "380    3.5\n",
       "Name: 101741, dtype: float64"
      ]
     },
     "execution_count": 40,
     "metadata": {},
     "output_type": "execute_result"
    }
   ],
   "source": [
    "user_ratings.loc[101741,:].dropna()"
   ]
  },
  {
   "cell_type": "code",
   "execution_count": 41,
   "metadata": {},
   "outputs": [
    {
     "data": {
      "text/html": [
       "<div>\n",
       "<style>\n",
       "    .dataframe thead tr:only-child th {\n",
       "        text-align: right;\n",
       "    }\n",
       "\n",
       "    .dataframe thead th {\n",
       "        text-align: left;\n",
       "    }\n",
       "\n",
       "    .dataframe tbody tr th {\n",
       "        vertical-align: top;\n",
       "    }\n",
       "</style>\n",
       "<table border=\"1\" class=\"dataframe\">\n",
       "  <thead>\n",
       "    <tr style=\"text-align: right;\">\n",
       "      <th>userId</th>\n",
       "      <th>378</th>\n",
       "      <th>665</th>\n",
       "    </tr>\n",
       "    <tr>\n",
       "      <th>movieId</th>\n",
       "      <th></th>\n",
       "      <th></th>\n",
       "    </tr>\n",
       "  </thead>\n",
       "  <tbody>\n",
       "    <tr>\n",
       "      <th>296</th>\n",
       "      <td>4.5</td>\n",
       "      <td>4.0</td>\n",
       "    </tr>\n",
       "    <tr>\n",
       "      <th>318</th>\n",
       "      <td>4.0</td>\n",
       "      <td>5.0</td>\n",
       "    </tr>\n",
       "    <tr>\n",
       "      <th>527</th>\n",
       "      <td>4.0</td>\n",
       "      <td>5.0</td>\n",
       "    </tr>\n",
       "    <tr>\n",
       "      <th>551</th>\n",
       "      <td>4.0</td>\n",
       "      <td>2.0</td>\n",
       "    </tr>\n",
       "    <tr>\n",
       "      <th>902</th>\n",
       "      <td>3.5</td>\n",
       "      <td>3.0</td>\n",
       "    </tr>\n",
       "    <tr>\n",
       "      <th>1073</th>\n",
       "      <td>3.0</td>\n",
       "      <td>5.0</td>\n",
       "    </tr>\n",
       "    <tr>\n",
       "      <th>1206</th>\n",
       "      <td>4.0</td>\n",
       "      <td>3.0</td>\n",
       "    </tr>\n",
       "    <tr>\n",
       "      <th>1258</th>\n",
       "      <td>4.0</td>\n",
       "      <td>3.0</td>\n",
       "    </tr>\n",
       "    <tr>\n",
       "      <th>1265</th>\n",
       "      <td>3.0</td>\n",
       "      <td>2.0</td>\n",
       "    </tr>\n",
       "    <tr>\n",
       "      <th>1285</th>\n",
       "      <td>3.5</td>\n",
       "      <td>4.0</td>\n",
       "    </tr>\n",
       "    <tr>\n",
       "      <th>1884</th>\n",
       "      <td>3.5</td>\n",
       "      <td>3.0</td>\n",
       "    </tr>\n",
       "    <tr>\n",
       "      <th>2291</th>\n",
       "      <td>4.0</td>\n",
       "      <td>3.0</td>\n",
       "    </tr>\n",
       "    <tr>\n",
       "      <th>2502</th>\n",
       "      <td>3.0</td>\n",
       "      <td>3.0</td>\n",
       "    </tr>\n",
       "    <tr>\n",
       "      <th>2858</th>\n",
       "      <td>3.5</td>\n",
       "      <td>3.0</td>\n",
       "    </tr>\n",
       "    <tr>\n",
       "      <th>2918</th>\n",
       "      <td>3.5</td>\n",
       "      <td>5.0</td>\n",
       "    </tr>\n",
       "    <tr>\n",
       "      <th>2959</th>\n",
       "      <td>4.5</td>\n",
       "      <td>5.0</td>\n",
       "    </tr>\n",
       "    <tr>\n",
       "      <th>3408</th>\n",
       "      <td>3.0</td>\n",
       "      <td>4.0</td>\n",
       "    </tr>\n",
       "    <tr>\n",
       "      <th>3793</th>\n",
       "      <td>0.5</td>\n",
       "      <td>4.0</td>\n",
       "    </tr>\n",
       "    <tr>\n",
       "      <th>3949</th>\n",
       "      <td>4.0</td>\n",
       "      <td>3.0</td>\n",
       "    </tr>\n",
       "    <tr>\n",
       "      <th>4011</th>\n",
       "      <td>4.0</td>\n",
       "      <td>2.0</td>\n",
       "    </tr>\n",
       "    <tr>\n",
       "      <th>4022</th>\n",
       "      <td>3.0</td>\n",
       "      <td>4.0</td>\n",
       "    </tr>\n",
       "    <tr>\n",
       "      <th>4226</th>\n",
       "      <td>4.5</td>\n",
       "      <td>4.0</td>\n",
       "    </tr>\n",
       "    <tr>\n",
       "      <th>4306</th>\n",
       "      <td>0.5</td>\n",
       "      <td>5.0</td>\n",
       "    </tr>\n",
       "    <tr>\n",
       "      <th>5991</th>\n",
       "      <td>3.0</td>\n",
       "      <td>4.0</td>\n",
       "    </tr>\n",
       "  </tbody>\n",
       "</table>\n",
       "</div>"
      ],
      "text/plain": [
       "userId   378  665\n",
       "movieId          \n",
       "296      4.5  4.0\n",
       "318      4.0  5.0\n",
       "527      4.0  5.0\n",
       "551      4.0  2.0\n",
       "902      3.5  3.0\n",
       "1073     3.0  5.0\n",
       "1206     4.0  3.0\n",
       "1258     4.0  3.0\n",
       "1265     3.0  2.0\n",
       "1285     3.5  4.0\n",
       "1884     3.5  3.0\n",
       "2291     4.0  3.0\n",
       "2502     3.0  3.0\n",
       "2858     3.5  3.0\n",
       "2918     3.5  5.0\n",
       "2959     4.5  5.0\n",
       "3408     3.0  4.0\n",
       "3793     0.5  4.0\n",
       "3949     4.0  3.0\n",
       "4011     4.0  2.0\n",
       "4022     3.0  4.0\n",
       "4226     4.5  4.0\n",
       "4306     0.5  5.0\n",
       "5991     3.0  4.0"
      ]
     },
     "execution_count": 41,
     "metadata": {},
     "output_type": "execute_result"
    }
   ],
   "source": [
    "user_ratings.loc[:,[378,665]].dropna()"
   ]
  },
  {
   "cell_type": "code",
   "execution_count": 42,
   "metadata": {},
   "outputs": [
    {
     "data": {
      "text/plain": [
       "movieId\n",
       "7002     4.008777\n",
       "26701    3.395182\n",
       "70344    3.301348\n",
       "69529    3.044968\n",
       "50703    2.969970\n",
       "dtype: float64"
      ]
     },
     "execution_count": 42,
     "metadata": {},
     "output_type": "execute_result"
    }
   ],
   "source": [
    "recommendation.sort_values(ascending=False).head()"
   ]
  },
  {
   "cell_type": "code",
   "execution_count": 43,
   "metadata": {},
   "outputs": [
    {
     "data": {
      "text/plain": [
       "movieId\n",
       "2650   -5.0\n",
       "2649   -5.0\n",
       "2647   -5.0\n",
       "2636   -5.0\n",
       "2637   -4.0\n",
       "dtype: float64"
      ]
     },
     "execution_count": 43,
     "metadata": {},
     "output_type": "execute_result"
    }
   ],
   "source": [
    "recommendation.sort_values(ascending=True).head()"
   ]
  },
  {
   "cell_type": "code",
   "execution_count": 44,
   "metadata": {},
   "outputs": [
    {
     "data": {
      "text/plain": [
       "userId\n",
       "186    4.5\n",
       "Name: 7002, dtype: float64"
      ]
     },
     "execution_count": 44,
     "metadata": {},
     "output_type": "execute_result"
    }
   ],
   "source": [
    "user_ratings.loc[7002,:].dropna()"
   ]
  },
  {
   "cell_type": "code",
   "execution_count": 45,
   "metadata": {},
   "outputs": [
    {
     "data": {
      "text/html": [
       "<div>\n",
       "<style>\n",
       "    .dataframe thead tr:only-child th {\n",
       "        text-align: right;\n",
       "    }\n",
       "\n",
       "    .dataframe thead th {\n",
       "        text-align: left;\n",
       "    }\n",
       "\n",
       "    .dataframe tbody tr th {\n",
       "        vertical-align: top;\n",
       "    }\n",
       "</style>\n",
       "<table border=\"1\" class=\"dataframe\">\n",
       "  <thead>\n",
       "    <tr style=\"text-align: right;\">\n",
       "      <th>userId</th>\n",
       "      <th>186</th>\n",
       "      <th>665</th>\n",
       "    </tr>\n",
       "    <tr>\n",
       "      <th>movieId</th>\n",
       "      <th></th>\n",
       "      <th></th>\n",
       "    </tr>\n",
       "  </thead>\n",
       "  <tbody>\n",
       "    <tr>\n",
       "      <th>2571</th>\n",
       "      <td>5.0</td>\n",
       "      <td>5.0</td>\n",
       "    </tr>\n",
       "    <tr>\n",
       "      <th>2959</th>\n",
       "      <td>4.5</td>\n",
       "      <td>5.0</td>\n",
       "    </tr>\n",
       "    <tr>\n",
       "      <th>3578</th>\n",
       "      <td>4.0</td>\n",
       "      <td>5.0</td>\n",
       "    </tr>\n",
       "    <tr>\n",
       "      <th>3617</th>\n",
       "      <td>1.0</td>\n",
       "      <td>2.0</td>\n",
       "    </tr>\n",
       "    <tr>\n",
       "      <th>3996</th>\n",
       "      <td>3.5</td>\n",
       "      <td>4.0</td>\n",
       "    </tr>\n",
       "    <tr>\n",
       "      <th>4226</th>\n",
       "      <td>5.0</td>\n",
       "      <td>4.0</td>\n",
       "    </tr>\n",
       "    <tr>\n",
       "      <th>4238</th>\n",
       "      <td>2.5</td>\n",
       "      <td>3.0</td>\n",
       "    </tr>\n",
       "    <tr>\n",
       "      <th>4306</th>\n",
       "      <td>4.0</td>\n",
       "      <td>5.0</td>\n",
       "    </tr>\n",
       "    <tr>\n",
       "      <th>4639</th>\n",
       "      <td>1.5</td>\n",
       "      <td>3.0</td>\n",
       "    </tr>\n",
       "    <tr>\n",
       "      <th>4993</th>\n",
       "      <td>5.0</td>\n",
       "      <td>5.0</td>\n",
       "    </tr>\n",
       "    <tr>\n",
       "      <th>5952</th>\n",
       "      <td>4.5</td>\n",
       "      <td>5.0</td>\n",
       "    </tr>\n",
       "  </tbody>\n",
       "</table>\n",
       "</div>"
      ],
      "text/plain": [
       "userId   186  665\n",
       "movieId          \n",
       "2571     5.0  5.0\n",
       "2959     4.5  5.0\n",
       "3578     4.0  5.0\n",
       "3617     1.0  2.0\n",
       "3996     3.5  4.0\n",
       "4226     5.0  4.0\n",
       "4238     2.5  3.0\n",
       "4306     4.0  5.0\n",
       "4639     1.5  3.0\n",
       "4993     5.0  5.0\n",
       "5952     4.5  5.0"
      ]
     },
     "execution_count": 45,
     "metadata": {},
     "output_type": "execute_result"
    }
   ],
   "source": [
    "user_ratings.loc[:,[186,665]].dropna()"
   ]
  },
  {
   "cell_type": "code",
   "execution_count": 46,
   "metadata": {},
   "outputs": [
    {
     "data": {
      "text/plain": [
       "userId\n",
       "482    5.0\n",
       "Name: 2650, dtype: float64"
      ]
     },
     "execution_count": 46,
     "metadata": {},
     "output_type": "execute_result"
    }
   ],
   "source": [
    "user_ratings.loc[2650,:].dropna()"
   ]
  },
  {
   "cell_type": "code",
   "execution_count": 47,
   "metadata": {},
   "outputs": [
    {
     "data": {
      "text/html": [
       "<div>\n",
       "<style>\n",
       "    .dataframe thead tr:only-child th {\n",
       "        text-align: right;\n",
       "    }\n",
       "\n",
       "    .dataframe thead th {\n",
       "        text-align: left;\n",
       "    }\n",
       "\n",
       "    .dataframe tbody tr th {\n",
       "        vertical-align: top;\n",
       "    }\n",
       "</style>\n",
       "<table border=\"1\" class=\"dataframe\">\n",
       "  <thead>\n",
       "    <tr style=\"text-align: right;\">\n",
       "      <th>userId</th>\n",
       "      <th>482</th>\n",
       "      <th>665</th>\n",
       "    </tr>\n",
       "    <tr>\n",
       "      <th>movieId</th>\n",
       "      <th></th>\n",
       "      <th></th>\n",
       "    </tr>\n",
       "  </thead>\n",
       "  <tbody>\n",
       "    <tr>\n",
       "      <th>32</th>\n",
       "      <td>4.0</td>\n",
       "      <td>4.0</td>\n",
       "    </tr>\n",
       "    <tr>\n",
       "      <th>1210</th>\n",
       "      <td>4.0</td>\n",
       "      <td>4.0</td>\n",
       "    </tr>\n",
       "    <tr>\n",
       "      <th>1258</th>\n",
       "      <td>5.0</td>\n",
       "      <td>3.0</td>\n",
       "    </tr>\n",
       "    <tr>\n",
       "      <th>1721</th>\n",
       "      <td>5.0</td>\n",
       "      <td>3.0</td>\n",
       "    </tr>\n",
       "    <tr>\n",
       "      <th>2617</th>\n",
       "      <td>4.0</td>\n",
       "      <td>4.0</td>\n",
       "    </tr>\n",
       "  </tbody>\n",
       "</table>\n",
       "</div>"
      ],
      "text/plain": [
       "userId   482  665\n",
       "movieId          \n",
       "32       4.0  4.0\n",
       "1210     4.0  4.0\n",
       "1258     5.0  3.0\n",
       "1721     5.0  3.0\n",
       "2617     4.0  4.0"
      ]
     },
     "execution_count": 47,
     "metadata": {},
     "output_type": "execute_result"
    }
   ],
   "source": [
    "user_ratings.loc[:,[482,665]].dropna()"
   ]
  },
  {
   "cell_type": "code",
   "execution_count": null,
   "metadata": {
    "collapsed": true
   },
   "outputs": [],
   "source": []
  }
 ],
 "metadata": {
  "kernelspec": {
   "display_name": "Python 3",
   "language": "python",
   "name": "python3"
  },
  "language_info": {
   "codemirror_mode": {
    "name": "ipython",
    "version": 3
   },
   "file_extension": ".py",
   "mimetype": "text/x-python",
   "name": "python",
   "nbconvert_exporter": "python",
   "pygments_lexer": "ipython3",
   "version": "3.6.3"
  }
 },
 "nbformat": 4,
 "nbformat_minor": 2
}
