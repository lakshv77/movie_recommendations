{
 "cells": [
  {
   "cell_type": "code",
   "execution_count": 1,
   "metadata": {
    "collapsed": true
   },
   "outputs": [],
   "source": [
    "from surprise import SVD\n",
    "from surprise import Dataset\n",
    "from surprise.model_selection import cross_validate"
   ]
  },
  {
   "cell_type": "code",
   "execution_count": 2,
   "metadata": {
    "scrolled": true
   },
   "outputs": [],
   "source": [
    "data = Dataset.load_builtin('ml-100k')"
   ]
  },
  {
   "cell_type": "code",
   "execution_count": 3,
   "metadata": {
    "collapsed": true
   },
   "outputs": [],
   "source": [
    "algo = SVD()"
   ]
  },
  {
   "cell_type": "code",
   "execution_count": 4,
   "metadata": {},
   "outputs": [
    {
     "name": "stdout",
     "output_type": "stream",
     "text": [
      "Evaluating RMSE, MAE of algorithm SVD on 5 split(s).\n",
      "\n",
      "                  Fold 1  Fold 2  Fold 3  Fold 4  Fold 5  Mean    Std     \n",
      "RMSE (testset)    0.9342  0.9344  0.9375  0.9415  0.9350  0.9365  0.0027  \n",
      "MAE (testset)     0.7369  0.7353  0.7397  0.7394  0.7386  0.7380  0.0017  \n",
      "Fit time          6.08    6.13    6.21    6.11    6.23    6.15    0.06    \n",
      "Test time         0.21    0.16    0.20    0.16    0.18    0.18    0.02    \n"
     ]
    },
    {
     "data": {
      "text/plain": [
       "{'fit_time': (6.083378791809082,\n",
       "  6.126277923583984,\n",
       "  6.212502956390381,\n",
       "  6.109356880187988,\n",
       "  6.23202109336853),\n",
       " 'test_mae': array([0.73691277, 0.73526915, 0.73974896, 0.73943511, 0.73863549]),\n",
       " 'test_rmse': array([0.93419263, 0.93444206, 0.93749765, 0.94147785, 0.93496923]),\n",
       " 'test_time': (0.2076117992401123,\n",
       "  0.15720605850219727,\n",
       "  0.1977999210357666,\n",
       "  0.16464781761169434,\n",
       "  0.18294191360473633)}"
      ]
     },
     "execution_count": 4,
     "metadata": {},
     "output_type": "execute_result"
    }
   ],
   "source": [
    "cross_validate(algo, data, measures=['RMSE', 'MAE'], cv=5, verbose=True)"
   ]
  },
  {
   "cell_type": "code",
   "execution_count": null,
   "metadata": {
    "collapsed": true
   },
   "outputs": [],
   "source": []
  }
 ],
 "metadata": {
  "kernelspec": {
   "display_name": "Python 3",
   "language": "python",
   "name": "python3"
  },
  "language_info": {
   "codemirror_mode": {
    "name": "ipython",
    "version": 3
   },
   "file_extension": ".py",
   "mimetype": "text/x-python",
   "name": "python",
   "nbconvert_exporter": "python",
   "pygments_lexer": "ipython3",
   "version": "3.6.3"
  }
 },
 "nbformat": 4,
 "nbformat_minor": 2
}
